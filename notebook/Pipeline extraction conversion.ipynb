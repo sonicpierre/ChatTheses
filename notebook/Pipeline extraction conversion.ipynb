{
 "cells": [
  {
   "attachments": {},
   "cell_type": "markdown",
   "metadata": {
    "id": "jcya5HytE4Tu"
   },
   "source": [
    "## Les librairies"
   ]
  },
  {
   "cell_type": "code",
   "execution_count": 155,
   "metadata": {
    "id": "TgkuSgrQfxm_"
   },
   "outputs": [],
   "source": [
    "import pandas as pd\n",
    "import nltk\n",
    "from nltk import wordpunct_tokenize\n",
    "from nltk.corpus import stopwords\n",
    "import requests\n",
    "import string\n",
    "import pdfplumber\n",
    "from pdfminer.psparser import PSEOF\n",
    "from pdfminer.pdfdocument import PDFSyntaxError\n",
    "import os\n",
    "import shutil\n",
    "import time\n",
    "import struct\n",
    "import glob"
   ]
  },
  {
   "cell_type": "code",
   "execution_count": 156,
   "metadata": {
    "id": "CfYvM43bfxnF"
   },
   "outputs": [],
   "source": [
    "import time\n",
    "from multiprocessing import Pool, cpu_count, Process, Queue\n",
    "import threading\n",
    "from tqdm import tqdm\n",
    "from colorama import Fore"
   ]
  },
  {
   "cell_type": "code",
   "execution_count": 157,
   "metadata": {
    "id": "Qb2Yc2epfxnG"
   },
   "outputs": [],
   "source": [
    "import fitz\n",
    "from PIL import Image"
   ]
  },
  {
   "cell_type": "code",
   "execution_count": 158,
   "metadata": {
    "id": "MbUzcRZYfxnG"
   },
   "outputs": [],
   "source": [
    "from decimal import Decimal, DecimalException, InvalidOperation"
   ]
  },
  {
   "cell_type": "code",
   "execution_count": 159,
   "metadata": {},
   "outputs": [],
   "source": [
    "from pydrive.auth import GoogleAuth\n",
    "from pydrive.drive import GoogleDrive"
   ]
  },
  {
   "attachments": {},
   "cell_type": "markdown",
   "metadata": {
    "id": "sz7n7OzoBDLX"
   },
   "source": [
    "## Transfert vers drive"
   ]
  },
  {
   "cell_type": "code",
   "execution_count": 160,
   "metadata": {},
   "outputs": [
    {
     "name": "stdout",
     "output_type": "stream",
     "text": [
      "Your browser has been opened to visit:\n",
      "\n",
      "    https://accounts.google.com/o/oauth2/auth?client_id=523991296033-q2rufardngpng9dprm10li4j2tsg3uh0.apps.googleusercontent.com&redirect_uri=http%3A%2F%2Flocalhost%3A8080%2F&scope=https%3A%2F%2Fwww.googleapis.com%2Fauth%2Fdrive&access_type=offline&response_type=code\n",
      "\n",
      "Authentication successful.\n"
     ]
    }
   ],
   "source": [
    "#Récupérer le json confidentiel à https://developers.google.com/drive/activity/v2/quickstart/python\n",
    "#Renommer le fichier client_secrets.json\n",
    "\n",
    "gauth = GoogleAuth()\n",
    "gauth.LocalWebserverAuth()\n",
    "\n",
    "drive = GoogleDrive(gauth)"
   ]
  },
  {
   "cell_type": "code",
   "execution_count": 161,
   "metadata": {},
   "outputs": [],
   "source": [
    "def obtenir_id(nom_file):\n",
    "    # Auto-iterate through all files that matches this query\n",
    "    file_list = drive.ListFile({'q': \"'root' in parents and trashed=false\"}).GetList()\n",
    "    for file1 in file_list:\n",
    "        if file1['title'] == nom_file:\n",
    "            return file1['id']"
   ]
  },
  {
   "cell_type": "code",
   "execution_count": 162,
   "metadata": {},
   "outputs": [],
   "source": [
    "def mis_en_line(nom):\n",
    "    \n",
    "    #Architecture en ligne\n",
    "    folder = drive.CreateFile({'title' : nom, 'parents': [{'id': obtenir_id(\"Thèse extraite\")}], 'mimeType' : 'application/vnd.google-apps.folder'})\n",
    "    folder.Upload()\n",
    "    identite = folder['id']\n",
    "    \n",
    "    filenames = os.listdir(\"Thèse extraite/\" + nom + \"/\")\n",
    "    liste_texte_ok = []\n",
    "    for fname in filenames:\n",
    "        if (fname != \"Page phrase colle\") and (fname != \"Image\"):\n",
    "            with open(\"Thèse extraite/\" + nom + \"/\" + fname) as infile:\n",
    "                num_page = fname.replace(\"Page \", \"\")\n",
    "                num_page = num_page.replace(\".txt\", \"\")\n",
    "                liste_texte_ok.insert(0, (infile.read(), int(num_page)))\n",
    "    \n",
    "    liste_texte_ok = sorted(liste_texte_ok, key=lambda texte: texte[1])\n",
    "    liste_ok_final = []\n",
    "    for i in liste_texte_ok:\n",
    "        liste_ok_final.append(i[0])\n",
    "\n",
    "    filenames = os.listdir(\"Thèse extraite/\" + nom + \"/Page phrase colle/\")\n",
    "    liste_texte_colle = []\n",
    "    for fname in filenames:\n",
    "        with open(\"Thèse extraite/\" + nom + \"/Page phrase colle/\" + fname) as infile:\n",
    "            liste_texte_colle.insert(0, infile.read())\n",
    "    \n",
    "    texte_ok = \"\\n \\n _LLAMMA_BIEN_LU \\n \\n\".join(liste_ok_final)\n",
    "    texte_colle = \"\\n \\n _LLAMMA_COLLE \\n \\n\".join(liste_texte_colle)\n",
    "    \n",
    "    #Ecriture sur drive\n",
    "    these_bien_lu = drive.CreateFile({'title' : \"Thèse \" + nom + \"ok\", 'parents': [{'id': identite}] ,'mimeType' : 'text/plain'})\n",
    "    these_bien_lu.SetContentString(texte_ok)\n",
    "    \n",
    "    these_lu_colle = drive.CreateFile({'title' : \"Thèse \" + nom + \"colle\", 'parents': [{'id': identite}] ,'mimeType' : 'text/plain'})\n",
    "    these_lu_colle.SetContentString(texte_colle)\n",
    "    \n",
    "    these_bien_lu.Upload()\n",
    "    these_lu_colle.Upload()"
   ]
  },
  {
   "attachments": {},
   "cell_type": "markdown",
   "metadata": {
    "id": "2cyAFAPqfxnH"
   },
   "source": [
    "## Pré-traitement \n"
   ]
  },
  {
   "cell_type": "code",
   "execution_count": 163,
   "metadata": {
    "id": "FUbUzxzofxnI"
   },
   "outputs": [],
   "source": [
    "def creation_arborescence_mobile(nom, traitement_image):\n",
    "    global dossier_destination\n",
    "\n",
    "    #Dossier pour les pages bien lues\n",
    "    if(not os.path.exists(dossier_destination + \"/\" + nom)):\n",
    "        os.makedirs(dossier_destination + \"/\" + nom)\n",
    "\n",
    "    #Dossier pour mettre les pages avec les phrases collées \n",
    "    if(not os.path.exists(dossier_destination + \"/\" + nom + \"/Page phrase colle\")):\n",
    "        os.makedirs(dossier_destination + \"/\" + nom + \"/Page phrase colle\")\n",
    "    \n",
    "    if(traitement_image):\n",
    "        #Répertoire pour mettre les images\n",
    "        if(not os.path.exists(dossier_destination + \"/\" + nom + \"/Image\")):\n",
    "            os.makedirs(dossier_destination + \"/\" + nom + \"/Image\")"
   ]
  },
  {
   "cell_type": "code",
   "execution_count": 164,
   "metadata": {
    "id": "9nBYnCxvfxnI"
   },
   "outputs": [],
   "source": [
    "def creation_arborescence_fixe():\n",
    "    global dossier_destination, dossier_mal_lu\n",
    "    \n",
    "    if(not os.path.exists(dossier_destination)):\n",
    "        os.makedirs(dossier_destination)\n",
    "    \n",
    "    if(not os.path.exists(dossier_destination + \"/Français\")):\n",
    "        os.makedirs(dossier_destination + \"/Français\")\n",
    "        \n",
    "    if(not os.path.exists(dossier_destination + \"/Anglais\")):\n",
    "        os.makedirs(dossier_destination + \"/Anglais\")\n",
    "        \n",
    "    if(not os.path.exists(dossier_mal_lu)):\n",
    "        os.makedirs(dossier_mal_lu)\n",
    "        \n",
    "    if(not os.path.exists(dossier_mal_lu + \"/Probleme page vide\")):\n",
    "        os.makedirs(dossier_mal_lu + \"/Probleme page vide\")\n",
    "        \n",
    "    if(not os.path.exists(dossier_mal_lu + \"/Probleme thèse mal encodée\")):\n",
    "        os.makedirs(dossier_mal_lu + \"/Probleme thèse mal encodée\")\n",
    "        \n",
    "    if(not os.path.exists(dossier_mal_lu + \"/Trop peu lu\")):\n",
    "        os.makedirs(dossier_mal_lu + \"/Trop peu lu\")\n",
    "        \n",
    "    if(not os.path.exists(dossier_mal_lu + \"/Problème phrase collées\")):\n",
    "        os.makedirs(dossier_mal_lu + \"/Problème phrase collées\")\n",
    "    \n",
    "    #Architecture fixe en ligne\n",
    "    if obtenir_id(\"Thèse extraite\") == None:\n",
    "        folder = drive.CreateFile({'title' : \"Thèse extraite\", 'mimeType' : 'application/vnd.google-apps.folder'})\n",
    "        folder.Upload()"
   ]
  },
  {
   "attachments": {},
   "cell_type": "markdown",
   "metadata": {
    "id": "Q1UqX0fefxnJ"
   },
   "source": [
    "## Nettoyage primaire"
   ]
  },
  {
   "cell_type": "code",
   "execution_count": 165,
   "metadata": {
    "id": "ymxD3plOfxnJ"
   },
   "outputs": [],
   "source": [
    "#Permet de vérifier si une page à 5 caractères différents\n",
    "def controle_page_valide(page):\n",
    "    \n",
    "    chiffre = \"0123456789\"\n",
    "    liste_chiffre = list(chiffre)\n",
    "    total_caractere = list(string.ascii_lowercase)\n",
    "\n",
    "    A_controler = list(page)\n",
    "    \n",
    "    compteur = 0\n",
    "\n",
    "    for lettre_page in A_controler:\n",
    "        for lettre_controle in range(len(total_caractere) - 1):\n",
    "            if(total_caractere[lettre_controle] == lettre_page):\n",
    "                compteur = compteur + 1\n",
    "                del total_caractere[lettre_controle]\n",
    "                \n",
    "    if(compteur >= 5):\n",
    "        #Indique le nombre de caractères différents dans la page\n",
    "        return False\n",
    "    else:\n",
    "        return True"
   ]
  },
  {
   "cell_type": "code",
   "execution_count": 166,
   "metadata": {
    "id": "sD2fMPd8fxnJ"
   },
   "outputs": [],
   "source": [
    "def traitement_texte(texte):\n",
    "    texte = texte.replace(\"`\", \"\")\n",
    "    texte = texte.replace(\"ˆ\", \"\")\n",
    "    texte = texte.replace(\"´\", \"\")\n",
    "\n",
    "    for a in range(500): \n",
    "        texte = texte.replace(\"(cid:{num})\".format(num = a), \"\")\n",
    "        \n",
    "    return texte"
   ]
  },
  {
   "attachments": {},
   "cell_type": "markdown",
   "metadata": {
    "id": "f8wWUXwmfxnK"
   },
   "source": [
    "## Traitement phrase colle"
   ]
  },
  {
   "cell_type": "code",
   "execution_count": 1,
   "metadata": {
    "id": "JXGXcaiKfxnK"
   },
   "outputs": [],
   "source": [
    "def compare_mot(mot_teste, phrase_decoupe):\n",
    "    \n",
    "    global liste_mot\n",
    "    \n",
    "    if(mot_teste == phrase_decoupe):\n",
    "        return True\n",
    "    \n",
    "    phrase_decoupe_inter = phrase_decoupe[len(mot_teste):]\n",
    "    \n",
    "    for mot in liste_mot:\n",
    "        mot_decomp = list(mot)\n",
    "        \n",
    "        compteur = 0\n",
    "        while ((compteur < len(phrase_decoupe_inter)) and (compteur < len(mot_decomp))):\n",
    "            \n",
    "            if(mot_decomp[compteur] == phrase_decoupe_inter[compteur]):\n",
    "                compteur = compteur + 1\n",
    "\n",
    "                if(compteur == len(mot_decomp)):\n",
    "                    return True\n",
    "            else :\n",
    "                break\n",
    "\n",
    "    return False"
   ]
  },
  {
   "cell_type": "code",
   "execution_count": 2,
   "metadata": {
    "id": "5VIXHpjsfxnL"
   },
   "outputs": [],
   "source": [
    "def decoupe_phrase_mot_long(phrase):\n",
    "    global liste_mot\n",
    "    \n",
    "    phrase_decoupe = list(phrase)\n",
    "    phrase_decoupe_finale = []\n",
    "\n",
    "    while len(phrase_decoupe)>0:\n",
    "        \n",
    "        mot_retenu = []\n",
    "        longueur_mot_retenu = 0\n",
    "        \n",
    "        #On parcourt l'ensemble des mots du dictionnaire\n",
    "        for mot in liste_mot:\n",
    "            mot_decomp = list(mot)\n",
    "            \n",
    "            compteur = 0\n",
    "            while ((compteur < len(phrase_decoupe)) and (compteur < len(mot_decomp))):\n",
    "                \n",
    "                if mot_decomp[compteur] == \" \":\n",
    "                    return \" \".join(phrase_decoupe_finale)\n",
    "                \n",
    "                #Traitement d'un mot dans une phrase\n",
    "                if((mot_decomp[compteur] == phrase_decoupe[compteur])):\n",
    "                    compteur = compteur + 1\n",
    "                    \n",
    "                    #DANGER\n",
    "                    if(compteur == len(mot_decomp)) and (longueur_mot_retenu < len(mot_decomp)) and compare_mot(\"\".join(mot_decomp), \"\".join(phrase_decoupe)):\n",
    "                        mot_retenu = mot_decomp\n",
    "                        longueur_mot_retenu = len(mot_retenu)\n",
    "                else :\n",
    "                    break\n",
    "\n",
    "        #Mise à jour de la phrase dans le cas où aucun mot n'a été trouvé \n",
    "        if(len(mot_retenu) == 0):\n",
    "            del phrase_decoupe[0]\n",
    "        \n",
    "        #Mise à jour de la phrase dans le cas où un mot a été trouvé\n",
    "        else :\n",
    "            for i in range(len(mot_retenu)):\n",
    "                del phrase_decoupe[0]\n",
    "\n",
    "            mot_retenu = \"\".join(mot_retenu)\n",
    "            phrase_decoupe_finale.append(mot_retenu)\n",
    "    \n",
    "    \n",
    "    return \" \".join(phrase_decoupe_finale)"
   ]
  },
  {
   "cell_type": "code",
   "execution_count": 169,
   "metadata": {
    "id": "n5SEmbWjfxnL"
   },
   "outputs": [],
   "source": [
    "def traitement_phrase_colle(texte, nombre_de_lettre_colle = 25, phrase_colle_page = 3):\n",
    "    \n",
    "    page_splite = texte.replace(\".\", \" \")\n",
    "    page_splite = page_splite.replace(\"_\", \" \")\n",
    "    page_splite = page_splite.split(\" \")\n",
    "    compteur_colle = 0\n",
    "    \n",
    "    for mot in range(len(page_splite)) :\n",
    "        if len(page_splite[mot])>nombre_de_lettre_colle :\n",
    "            \n",
    "            texte = texte.lower()\n",
    "            texte = texte.replace(\".\", \" .\")\n",
    "            texte = texte.replace(\"!\", \" !\")\n",
    "            texte = texte.replace(\"?\", \" ?\")\n",
    "            texte = texte.replace(\"\\'\", \"\")\n",
    "            texte = texte.replace(\",\", \" \")\n",
    "            \n",
    "            \n",
    "            compteur_colle += 1\n",
    "            #A PENSER DANS UN THREAD\n",
    "            #page_splite[mot] = decoupe_phrase_mot_long(page_splite[mot])\n",
    "    \n",
    "    if compteur_colle > phrase_colle_page :\n",
    "        return (True, compteur_colle)\n",
    "    \n",
    "    return (False, compteur_colle)"
   ]
  },
  {
   "attachments": {},
   "cell_type": "markdown",
   "metadata": {
    "id": "O0RVDn9GfxnM"
   },
   "source": [
    "## Cas d'arrêt prématuré "
   ]
  },
  {
   "cell_type": "code",
   "execution_count": 170,
   "metadata": {
    "id": "SXQiHmLkfxnM"
   },
   "outputs": [],
   "source": [
    "def timer_these(temps = 350):\n",
    "    global arret_timer\n",
    "\n",
    "    temps_passe = 0\n",
    "    while temps_passe < temps and not arret_timer:\n",
    "        time.sleep(1)\n",
    "        temps_passe = temps_passe + 1\n",
    "        \n",
    "    if(temps_passe >= temps):\n",
    "        raise TimeoutError"
   ]
  },
  {
   "attachments": {},
   "cell_type": "markdown",
   "metadata": {
    "id": "2C76nYQUfxnM"
   },
   "source": [
    "## Post traitement"
   ]
  },
  {
   "cell_type": "code",
   "execution_count": 171,
   "metadata": {
    "id": "U6FjZ7GJfxnN"
   },
   "outputs": [],
   "source": [
    "def pourcentage_phrase_colle(nom):\n",
    "    global dossier_destination\n",
    "    \n",
    "    nombre_page_bien_lues = len(os.listdir(dossier_destination + \"/\" + nom + \"/\")) - 1\n",
    "    nombre_page_males_lues = len(os.listdir(dossier_destination + \"/\" + nom + \"/Page phrase colle/\"))\n",
    "    \n",
    "    return nombre_page_males_lues / (nombre_page_bien_lues + nombre_page_males_lues)"
   ]
  },
  {
   "cell_type": "code",
   "execution_count": 172,
   "metadata": {
    "id": "4kFlqkaBfxnN"
   },
   "outputs": [],
   "source": [
    "def condition_post_extraction(nom, mal_encode, compteur_page_vide):\n",
    "    global seuil_nb_pages, seuil_page_vide, dossier_mal_lu, pourcentage_colle_refus, dossier_mal_lu, dossier_destination\n",
    "    \n",
    "    #Post traitement\n",
    "    if os.path.exists(dossier_destination + \"/\" + nom):\n",
    "        if(len(os.listdir(dossier_destination + \"/\" + nom)) < seuil_nb_pages):\n",
    "            print(\"Trop peu de pages lues\")\n",
    "            shutil.rmtree(dossier_destination + \"/\" + nom)\n",
    "            shutil.move(nom + \".pdf\",dossier_mal_lu + \"/Trop peu lu/\" + nom + \".pdf\")\n",
    "\n",
    "        elif(compteur_page_vide > seuil_page_vide):\n",
    "            print(\"Trop de page blanches\")\n",
    "            shutil.rmtree(dossier_destination + \"/\" + nom)\n",
    "            shutil.move(nom + \".pdf\",dossier_mal_lu + \"/Probleme page vide/\" + nom + \".pdf\")\n",
    "\n",
    "        elif(pourcentage_phrase_colle(nom) > pourcentage_colle_refus):\n",
    "            print(\"Trop de page avec phrases collées\")\n",
    "            shutil.rmtree(dossier_destination + \"/\" + nom)\n",
    "            shutil.move(nom + \".pdf\",dossier_mal_lu + \"/Problème phrase collées/\" + nom + \".pdf\")\n",
    "        \n",
    "    if mal_encode :\n",
    "        print(\"Thèse non traduisible\")\n",
    "        fichier.close()\n",
    "        shutil.rmtree(dossier_destination + \"/\" + nom)\n",
    "        shutil.move(nom + \".pdf\",dossier_mal_lu + \"/Probleme thèse mal encodée/\" + nom + \".pdf\")"
   ]
  },
  {
   "attachments": {},
   "cell_type": "markdown",
   "metadata": {
    "id": "Ef0QknELfxnO"
   },
   "source": [
    "## Traitement texte"
   ]
  },
  {
   "cell_type": "code",
   "execution_count": 173,
   "metadata": {
    "id": "4SvexA9ujVpf"
   },
   "outputs": [],
   "source": [
    "def extraction_remplissage(page, nom, queue, num_page):\n",
    "    try:\n",
    "        tuple_inserer = [page.extract_text(), nom, num_page]\n",
    "    except (UnicodeError, UnicodeDecodeError, UnicodeEncodeError, TimeoutError, struct.error, TypeError, AssertionError):\n",
    "        tuple_inserer = [\"Erreur\", nom, num_page]\n",
    "    queue.put(tuple_inserer)"
   ]
  },
  {
   "cell_type": "code",
   "execution_count": 174,
   "metadata": {
    "id": "7M3noSAWQY6-"
   },
   "outputs": [],
   "source": [
    "def assemblage(liste_paire, liste_impaire):\n",
    "    liste_totale = []\n",
    "    for texte_p, texte_imp in zip(liste_paire,liste_impaire):\n",
    "        liste_totale.append(texte_p)\n",
    "        liste_totale.append(texte_imp)\n",
    "    return liste_totale"
   ]
  },
  {
   "cell_type": "code",
   "execution_count": 175,
   "metadata": {
    "id": "kGkDpQNkfxnP"
   },
   "outputs": [],
   "source": [
    "def traitement_pages(fichier_lu, traitement_image):\n",
    "    global dossier_destination, seuil_lettre_phrase_colle, seuil_phrase_colle, temps_limite, seuil_nb_pages, seuil_page_vide, dossier_mal_lu, pourcentage_colle_refus, taille_max, nombre_de_page_illisible, compteur_page_vide, mal_encode, arret_timer\n",
    "    \n",
    "    print(fichier_lu)\n",
    "\n",
    "    nom = fichier_lu.replace(\".pdf\", \"\")\n",
    "    creation_arborescence_mobile(nom, traitement_image)\n",
    "\n",
    "    #On lance le timer pour éviter les temps de traitement aberrant\n",
    "    timer = threading.Thread(target=timer_these)\n",
    "    timer.start()\n",
    "\n",
    "    try:\n",
    "        with pdfplumber.open(fichier_lu) as pdf :\n",
    "            page_textes_paire = []\n",
    "            page_textes_impaire = []\n",
    "\n",
    "            queue_paire = Queue(len(pdf.pages))\n",
    "            queue_impaire = Queue(len(pdf.pages))\n",
    "\n",
    "            page = 0\n",
    "            bar = tqdm(total = len(pdf.pages))\n",
    "            while page < len(pdf.pages):\n",
    "                p1 = Process(target=extraction_remplissage, args=(pdf.pages[page], nom, queue_paire, page,))\n",
    "                p1.start()\n",
    "                page_textes_paire.append(queue_paire.get())\n",
    "                page += 1\n",
    "                \n",
    "                if (page < len(pdf.pages)) :\n",
    "                    p2 = Process(target=extraction_remplissage, args=(pdf.pages[page], nom, queue_impaire, page,))\n",
    "                    p2.start()\n",
    "                    page_textes_impaire.append(queue_impaire.get())\n",
    "                \n",
    "                p1.join()\n",
    "                if (page < len(pdf.pages)) :\n",
    "                    p2.join()\n",
    "                    page +=1\n",
    "                    bar.update(1)\n",
    "\n",
    "                bar.update(1)\n",
    "\n",
    "                if not timer.is_alive() :\n",
    "                    break\n",
    "                \n",
    "            bar.close()\n",
    "\n",
    "            #On assemble\n",
    "            page_texte = assemblage(page_textes_paire, page_textes_impaire)\n",
    "\n",
    "            if (len(page_texte) == 0):\n",
    "                print(\"Thèse vide ou scannée\")\n",
    "\n",
    "            #On parallélise l'écriture des pages\n",
    "            with Pool() as pool:\n",
    "                pool.map(extraction_page, page_texte)\n",
    "                \n",
    "        #Conditions avec post traitement\n",
    "        condition_post_extraction(nom, mal_encode, compteur_page_vide)\n",
    "\n",
    "        #Mise en ligne\n",
    "        if os.path.exists(dossier_destination + \"/\" + nom):\n",
    "            mis_en_line(nom)\n",
    "\n",
    "    except (InvalidOperation,PSEOF ,TypeError, PDFSyntaxError, TimeoutError, BrokenPipeError) :\n",
    "        print(\"Erreur de lecture\")\n",
    "\n",
    "    \n",
    "    #Re-initilisation\n",
    "    #Variable contrôle qualité page\n",
    "    nombre_de_page_illisible = 0\n",
    "    compteur_page_vide = 0\n",
    "    numeros_de_page = 0\n",
    "    mal_encode = False"
   ]
  },
  {
   "cell_type": "code",
   "execution_count": 176,
   "metadata": {
    "id": "xsR-EjfCi_2B"
   },
   "outputs": [],
   "source": [
    "def extraction_page(texte_nom):\n",
    "    global nombre_de_page_illisible, compteur_page_vide, mal_encode\n",
    "\n",
    "    texte = texte_nom[0]\n",
    "    nom = texte_nom[1]\n",
    "    numeros_de_page = texte_nom[2]\n",
    "    \n",
    "    if (not mal_encode):\n",
    "        try :\n",
    "            page_traite = traitement_texte(texte)\n",
    "\n",
    "            #Traitement phrase collées\n",
    "            traitement_colle = traitement_phrase_colle(page_traite, seuil_lettre_phrase_colle, seuil_phrase_colle)\n",
    "\n",
    "            #On crée le fichier\n",
    "            if not traitement_colle[0] :\n",
    "                fichier = open(dossier_destination + \"/\" + nom +'/Page {page}.txt'.format(page=numeros_de_page), \"a\", encoding = \"utf-8\")\n",
    "\n",
    "            else :\n",
    "                fichier = open(dossier_destination + \"/\" + nom + '/Page phrase colle/Page {page} traite {nb_traite}.txt'.format(page=numeros_de_page, nb_traite = traitement_colle[1]), \"a\", encoding = \"utf-8\")\n",
    "\n",
    "            #10 illisible sur les 30 premières\n",
    "            if (len(os.listdir(dossier_destination + \"/\" + nom)) < 30):\n",
    "                if (controle_page_valide(page_traite)):\n",
    "                    nombre_de_page_illisible = nombre_de_page_illisible + 1\n",
    "\n",
    "            if (nombre_de_page_illisible >= 10):\n",
    "                mal_encode = True\n",
    "\n",
    "            if not mal_encode:\n",
    "                fichier.write(page_traite)\n",
    "\n",
    "\n",
    "        except (AttributeError, FileNotFoundError):\n",
    "            fichier = open(dossier_destination + \"/\" + nom + '/Page {page}.txt'.format(page=numeros_de_page), \"a\", encoding = \"utf-8\")\n",
    "            fichier.write(\"Page Vide\")\n",
    "            compteur_page_vide = compteur_page_vide + 1\n",
    "\n",
    "        #On clot le fichier et on supprime la page\n",
    "        fichier.close()"
   ]
  },
  {
   "attachments": {},
   "cell_type": "markdown",
   "metadata": {
    "id": "ee-wiLZtfxnQ"
   },
   "source": [
    "## Traitement images"
   ]
  },
  {
   "cell_type": "code",
   "execution_count": 177,
   "metadata": {
    "id": "zX68QCArfxnR"
   },
   "outputs": [],
   "source": [
    "def controle_image(nom, largeur_min, hauteur_min):\n",
    "    image=Image.open(nom)\n",
    "    if image.size[0] < largeur_min or image.size[1] < hauteur_min:\n",
    "        image.close()\n",
    "        os.remove(nom)\n",
    "    image.close()"
   ]
  },
  {
   "cell_type": "code",
   "execution_count": 178,
   "metadata": {
    "id": "uZSa0nqrfxnR"
   },
   "outputs": [],
   "source": [
    "def traitement_image(pdf_lu):\n",
    "    \n",
    "    global dossier_destination\n",
    "    \n",
    "    nom = pdf_lu.replace(\".pdf\", \"\")\n",
    "    if os.path.exists(dossier_destination + \"/\" + nom):\n",
    "        doc = fitz.open(pdf_lu)\n",
    "        nom = pdf_lu.replace(\".pdf\", \"\")\n",
    "\n",
    "\n",
    "        for i in range(len(doc)):\n",
    "            for img in doc.getPageImageList(i):\n",
    "                try :\n",
    "                    xref = img[0]\n",
    "                    pix = fitz.Pixmap(doc, xref)\n",
    "                    chemin = dossier_destination + \"/\" + nom + \"/Image/%s.png\" % (i)\n",
    "                    if pix.n < 5:\n",
    "                        pix.writePNG(chemin)\n",
    "\n",
    "                    else :\n",
    "                        pix = fitz.Pixmap(fitz.csRGB, pix)\n",
    "                        pix.writeImage(chemin)\n",
    "\n",
    "                    controle_image(chemin, 350, 350)\n",
    "                    pix = None\n",
    "\n",
    "                except RuntimeError :\n",
    "                    pix = None\n",
    "                    os.remove(chemin)                \n",
    "                    pass\n",
    "                except FileNotFoundError:\n",
    "                    pass"
   ]
  },
  {
   "attachments": {},
   "cell_type": "markdown",
   "metadata": {},
   "source": [
    "## Traitement de la langue"
   ]
  },
  {
   "cell_type": "code",
   "execution_count": 179,
   "metadata": {},
   "outputs": [],
   "source": [
    "def Quelle_langue(document):\n",
    "   \n",
    "    mots_partages = {}\n",
    "    mots = wordpunct_tokenize(document)\n",
    "    for langue in stopwords.fileids():\n",
    "        liste_stopWds = stopwords.words(langue)\n",
    "        mots = set(mots)\n",
    "       \n",
    "        elements_communs = mots.intersection(liste_stopWds)\n",
    "        mots_partages[langue] = len(elements_communs)\n",
    "       \n",
    "    return max(mots_partages, key= mots_partages.get)"
   ]
  },
  {
   "cell_type": "code",
   "execution_count": 180,
   "metadata": {},
   "outputs": [],
   "source": [
    "def test_langue_sep(dossier_source):\n",
    "    \n",
    "    global compteur_français, compteur_anglais\n",
    "    \n",
    "    liste_theses = os.listdir(dossier_source)\n",
    "    for dossier in liste_theses:\n",
    "        if(dossier != \"Français\" and dossier != \"Anglais\"):\n",
    "    \n",
    "            Cpt_fr = 0\n",
    "            Cpt_en = 0\n",
    "            english = 0\n",
    "            french = 0\n",
    "\n",
    "            liste_fichiers = os.listdir(dossier_source +\"/\"+dossier)\n",
    "            liste_theses = os.listdir(dossier_source)\n",
    "            taille = len(liste_fichiers)\n",
    "\n",
    "            for fichier in sorted(glob.glob(dossier_source + \"/\" + dossier + \"/*.txt\")):\n",
    "                with open(fichier,'r') as txt:\n",
    "                    Texte = txt.read()\n",
    "                    if(Quelle_langue(Texte)=='french'):\n",
    "                        Cpt_fr+=1\n",
    "                    elif(Quelle_langue(Texte)=='english'):\n",
    "                        Cpt_en+=1\n",
    "\n",
    "            if((Cpt_fr/taille) >= .80):\n",
    "                compteur_français += 1\n",
    "                shutil.move(os.path.join(dossier_source,dossier),dossier_source+'/Français')\n",
    "\n",
    "            elif((Cpt_en/taille) >= .80):\n",
    "                compteur_anglais += 1\n",
    "                shutil.move(os.path.join(dossier_source,dossier),dossier_source+'/Anglais')\n",
    "\n",
    "            else:\n",
    "                shutil.rmtree(os.path.join(dossier_source,dossier))   "
   ]
  },
  {
   "attachments": {},
   "cell_type": "markdown",
   "metadata": {
    "id": "SXwIaSrw_Sj6"
   },
   "source": [
    "## Code téléchargement"
   ]
  },
  {
   "cell_type": "code",
   "execution_count": 181,
   "metadata": {
    "id": "unPO064Y_Yb7"
   },
   "outputs": [],
   "source": [
    "def telechargement(nom_src):\n",
    "\n",
    "    url = 'https://tel.archives-ouvertes.fr/' + nom_src + '/document'\n",
    "    try :\n",
    "        r = requests.get(url, stream=True)\n",
    "        with open(nom_src + '.pdf', 'wb') as fd:\n",
    "            for chunk in r.iter_content(2000):\n",
    "                fd.write(chunk)\n",
    "\n",
    "    except ConnectionError:\n",
    "        print(\"Erreur dans la connection\")"
   ]
  },
  {
   "attachments": {},
   "cell_type": "markdown",
   "metadata": {
    "id": "nSUjXDPifxnS"
   },
   "source": [
    "## Paramètres"
   ]
  },
  {
   "cell_type": "code",
   "execution_count": 182,
   "metadata": {},
   "outputs": [],
   "source": [
    "data = pd.read_csv(\"PhD_DB_Discip_recodée.csv\", encoding=\"utf-8\")\n",
    "domaine_list = ['X', 'IV', 'V', 'VII', 'VI', 'VIII', 'III', 'IX', 'II', 'I - Droit', 'XII', 'I', 'pharmacie']\n",
    "data = data.drop([\"Defence.date\",\"Domains\", \"n.disc\", \"disc1.lev2\", \"disc1.lev3\", \"disc2.lev1\", \"disc2.rec.lev1\", \"disc2.rec.lev2\", \"disc2.rec.lev3\", \"disc3.rec.lev1\", \"disc3.rec.lev2\", \"disc3.rec.lev3\", \"Author\", \"Author.ID\", \"views\",\"downloads\"], axis = 1)\n",
    "data = data.drop([\"disc1.lev1\", \"disc2.lev2\", \"disc2.lev3\", \"disc3.lev1\", \"disc3.lev2\", \"disc3.lev3\", \"n.tag\", \"disc1.rec.lev2\", \"disc1.rec.lev3\"], axis = 1)\n",
    "data = data.dropna(axis=0)"
   ]
  },
  {
   "cell_type": "code",
   "execution_count": 183,
   "metadata": {
    "id": "ci_0jyN3fxnS"
   },
   "outputs": [],
   "source": [
    "#Variable initiale de traitement texte\n",
    "#Variable contrôle qualité page\n",
    "nombre_de_page_illisible = 0\n",
    "compteur_page_vide = 0\n",
    "numeros_de_page = -1\n",
    "mal_encode = False\n",
    "arret_timer = False\n",
    "\n",
    "#Nom du dossier destination\n",
    "dossier_destination = \"Thèse extraite\"\n",
    "\n",
    "#Nom du dossier destination pour les documents mals lus\n",
    "dossier_mal_lu = \"Thèse mal lues\"\n",
    "\n",
    "taille_max = 45000000\n",
    "seuil_lettre_phrase_colle = 25\n",
    "seuil_phrase_colle = 3\n",
    "seuil_nb_pages = 10\n",
    "seuil_page_vide = 40\n",
    "pourcentage_colle_refus = 0.4\n",
    "\n",
    "\n",
    "compteur_français = 0\n",
    "compteur_anglais = 0"
   ]
  },
  {
   "attachments": {},
   "cell_type": "markdown",
   "metadata": {
    "id": "gSFacutZfxnT"
   },
   "source": [
    "## Code principal"
   ]
  },
  {
   "cell_type": "code",
   "execution_count": null,
   "metadata": {},
   "outputs": [],
   "source": []
  },
  {
   "cell_type": "code",
   "execution_count": 184,
   "metadata": {
    "id": "3PK74VbRfxnT"
   },
   "outputs": [],
   "source": [
    "def traitement_total(nom_src, data, traitement_image):\n",
    "    global dossier_destination\n",
    "    \n",
    "    if(os.path.exists(dossier_destination + \"/\" + nom_src)):\n",
    "        shutil.rmtree(dossier_destination + \"/\" + nom_src)\n",
    "    \n",
    "    #Petit filtre par taille\n",
    "    if (os.path.getsize(nom_src + '.pdf') < taille_max):\n",
    "        traitement_pages(nom_src + \".pdf\", traitement_image)\n",
    "        \n",
    "        if(traitement_image):\n",
    "            traitement_image(nom_src + \".pdf\")\n",
    "    else :\n",
    "        print(\"Thèse trop lourde\")"
   ]
  },
  {
   "cell_type": "code",
   "execution_count": 190,
   "metadata": {},
   "outputs": [],
   "source": [
    "def extraction(data, nb_process, traitement_image):\n",
    "    global dossier_destination, taille_max, compteur_français, compteur_anglais\n",
    "    \n",
    "    creation_arborescence_fixe()\n",
    "    temps = time.time()\n",
    "\n",
    "    for indice_domaine in range(len(domaine_list)):\n",
    "        \n",
    "        #Différents compteurs et pour savoir l'avancée il faudra les sauvegarder qq part\n",
    "        compteur_français = 0\n",
    "        compteur_anglais = 0\n",
    "        indice = 0\n",
    "        \n",
    "        \n",
    "        if(not os.path.exists(domaine_list[indice_domaine] + \" memoire.csv\")):\n",
    "            pd.DataFrame({domaine_list[indice_domaine] : [], \"Etat\" : []}).to_csv(domaine_list[indice_domaine] + \" memoire.csv\")\n",
    "\n",
    "            \n",
    "        #Mémoire pour revenir où on s'était arrêté\n",
    "        memoire = list(pd.read_csv(domaine_list[indice_domaine] + \" memoire.csv\")[domaine_list[indice_domaine]])\n",
    "        etat_traitement = list(pd.read_csv(domaine_list[indice_domaine] + \" memoire.csv\")[\"Etat\"])\n",
    "        \n",
    "        \n",
    "        data_domaine = data[data[\"def.date\"] > 2000]\n",
    "        data_domaine = data_domaine[data_domaine[\"disc1.rec.lev1\"] == domaine_list[indice_domaine]]\n",
    "        data_domaine.index = range(data_domaine.shape[0])\n",
    "\n",
    "        while (compteur_français < 50) and (compteur_anglais < 50):\n",
    "\n",
    "            #Création de Process\n",
    "            liste_process = []\n",
    "            for process in range(nb_process):\n",
    "                \n",
    "                \n",
    "                while data_domaine[\"these.id\"][indice] in list(pd.read_csv(domaine_list[indice_domaine] + \" memoire.csv\")[domaine_list[indice_domaine]]):\n",
    "                    indice+=1\n",
    "                    \n",
    "                nom_src = data_domaine[\"these.id\"][indice]\n",
    "                telechargement(nom_src)\n",
    "\n",
    "                liste_process.append((nom_src,Process(target = traitement_total, args=(nom_src, data, traitement_image, ))))\n",
    "                liste_process[process][1].start()\n",
    "                indice+=1\n",
    "\n",
    "            for process_en_cours in liste_process :\n",
    "                process_en_cours[1].join()\n",
    "                memoire.append(process_en_cours[0])\n",
    "                \n",
    "                if (os.path.exists(process_en_cours[0] + '.pdf')):\n",
    "                    os.remove(process_en_cours[0] + '.pdf')\n",
    "                    etat_traitement.append(\"Traité\")\n",
    "\n",
    "                else :\n",
    "                    print(\"Problème traitement\")\n",
    "                    etat_traitement.append(\"Pas traité\")\n",
    "            \n",
    "            arret_timer = True\n",
    "            time.sleep(1)\n",
    "            arret_timer = False\n",
    "            test_langue_sep(dossier_destination)\n",
    "            \n",
    "            print(\"Fin de phase !\")\n",
    "            pd.DataFrame({domaine_list[indice_domaine] : memoire, \"Etat\" : etat_traitement}).to_csv(domaine_list[indice_domaine] + \" memoire.csv\")\n",
    "\n",
    "        domaine_list[indice_domaine] = \"Traité\""
   ]
  },
  {
   "cell_type": "code",
   "execution_count": 191,
   "metadata": {
    "id": "zretccAbKUsr"
   },
   "outputs": [],
   "source": [
    "#os.makedirs(\"/content/lot 1/\")"
   ]
  },
  {
   "cell_type": "code",
   "execution_count": 192,
   "metadata": {
    "id": "XG6wKLZvdglf"
   },
   "outputs": [],
   "source": [
    "#shutil.rmtree(\"Thèse mal lues/\")\n",
    "#shutil.rmtree(\"Thèse extraite/\")"
   ]
  },
  {
   "cell_type": "code",
   "execution_count": 195,
   "metadata": {
    "colab": {
     "base_uri": "https://localhost:8080/"
    },
    "id": "OAXx4KAOfxnT",
    "outputId": "4caa2a70-e688-4066-ed7d-ab6eefa84590"
   },
   "outputs": [
    {
     "name": "stdout",
     "output_type": "stream",
     "text": [
      "tel-02789591v1.pdf\n"
     ]
    },
    {
     "name": "stderr",
     "output_type": "stream",
     "text": [
      "  2%|▏         | 3/169 [00:00<00:29,  5.70it/s]"
     ]
    },
    {
     "name": "stdout",
     "output_type": "stream",
     "text": [
      "tel-02789793v1.pdf\n"
     ]
    },
    {
     "name": "stderr",
     "output_type": "stream",
     "text": [
      "  4%|▍         | 7/169 [00:01<00:25,  6.46it/s]"
     ]
    },
    {
     "name": "stdout",
     "output_type": "stream",
     "text": [
      "tel-00275947v1.pdf\n"
     ]
    },
    {
     "name": "stderr",
     "output_type": "stream",
     "text": [
      "100%|██████████| 124/124 [00:25<00:00,  4.89it/s]\n",
      "100%|██████████| 169/169 [00:30<00:00,  5.54it/s]\n",
      "100%|██████████| 232/232 [01:06<00:00,  3.51it/s]\n"
     ]
    },
    {
     "name": "stdout",
     "output_type": "stream",
     "text": [
      "Fin de phase !\n",
      "tel-00706566v1.pdf\n"
     ]
    },
    {
     "name": "stderr",
     "output_type": "stream",
     "text": [
      "100%|██████████| 136/136 [00:30<00:00,  4.45it/s]\n"
     ]
    },
    {
     "name": "stdout",
     "output_type": "stream",
     "text": [
      "Thèse trop lourde\n",
      "tel-01552672v1.pdf\n"
     ]
    },
    {
     "name": "stderr",
     "output_type": "stream",
     "text": [
      "100%|██████████| 215/215 [00:29<00:00,  7.18it/s]\n"
     ]
    },
    {
     "name": "stdout",
     "output_type": "stream",
     "text": [
      "Fin de phase !\n",
      "tel-02810628v1.pdf\n"
     ]
    },
    {
     "name": "stderr",
     "output_type": "stream",
     "text": [
      "100%|██████████| 2/2 [00:00<00:00,  2.72it/s]\n"
     ]
    },
    {
     "name": "stdout",
     "output_type": "stream",
     "text": [
      "Trop peu de pages lues\n",
      "tel-01398774v1.pdf\n",
      "tel-02802705v1.pdf\n"
     ]
    },
    {
     "name": "stderr",
     "output_type": "stream",
     "text": [
      "\r\n",
      "  0%|          | 0/1 [00:00<?, ?it/s]"
     ]
    },
    {
     "name": "stdout",
     "output_type": "stream",
     "text": [
      "Problème traitement\n"
     ]
    },
    {
     "name": "stderr",
     "output_type": "stream",
     "text": [
      "100%|██████████| 1/1 [00:00<00:00,  1.52it/s]\n"
     ]
    },
    {
     "name": "stdout",
     "output_type": "stream",
     "text": [
      "Thèse vide ou scannée\n",
      "Trop peu de pages lues\n"
     ]
    },
    {
     "name": "stderr",
     "output_type": "stream",
     "text": [
      "100%|██████████| 170/170 [00:39<00:00,  4.25it/s]\n"
     ]
    },
    {
     "name": "stdout",
     "output_type": "stream",
     "text": [
      "Problème traitement\n",
      "Fin de phase !\n",
      "tel-02811401v1.pdf\n",
      "tel-00008546v1.pdf\n",
      "tel-00832725v1.pdf\n"
     ]
    },
    {
     "name": "stderr",
     "output_type": "stream",
     "text": [
      "100%|██████████| 93/93 [00:21<00:00,  4.31it/s]s]\n",
      "100%|██████████| 428/428 [02:53<00:00,  2.47it/s]\n",
      "100%|██████████| 287/287 [03:37<00:00,  1.32it/s]\n"
     ]
    },
    {
     "name": "stdout",
     "output_type": "stream",
     "text": [
      "Fin de phase !\n",
      "Thèse trop lourde\n",
      "tel-00646978v1.pdf\n",
      "tel-01685297v1.pdf\n"
     ]
    },
    {
     "name": "stderr",
     "output_type": "stream",
     "text": [
      "100%|██████████| 189/189 [00:35<00:00,  5.39it/s]\n",
      "100%|██████████| 387/387 [02:33<00:00,  2.52it/s]\n"
     ]
    },
    {
     "name": "stdout",
     "output_type": "stream",
     "text": [
      "Fin de phase !\n",
      "tel-00490984v2.pdf\n"
     ]
    },
    {
     "name": "stderr",
     "output_type": "stream",
     "text": [
      "  1%|          | 1/194 [00:00<00:42,  4.49it/s]"
     ]
    },
    {
     "name": "stdout",
     "output_type": "stream",
     "text": [
      "tel-02811263v1.pdf\n"
     ]
    },
    {
     "name": "stderr",
     "output_type": "stream",
     "text": [
      "  9%|▉         | 17/194 [00:04<00:45,  3.93it/s]"
     ]
    },
    {
     "name": "stdout",
     "output_type": "stream",
     "text": [
      "tel-01750303v1.pdf\n"
     ]
    },
    {
     "name": "stderr",
     "output_type": "stream",
     "text": [
      "100%|██████████| 194/194 [00:39<00:00,  4.96it/s]\n",
      "100%|██████████| 164/164 [01:04<00:00,  2.54it/s]\n",
      "100%|██████████| 321/321 [01:10<00:00,  4.54it/s]\n"
     ]
    },
    {
     "name": "stdout",
     "output_type": "stream",
     "text": [
      "Fin de phase !\n",
      "tel-00005704v1.pdf\n",
      "tel-00345544v1.pdf\n"
     ]
    },
    {
     "name": "stderr",
     "output_type": "stream",
     "text": [
      "  7%|▋         | 13/188 [00:02<00:34,  5.04it/s]"
     ]
    },
    {
     "name": "stdout",
     "output_type": "stream",
     "text": [
      "tel-01968697v1.pdf\n"
     ]
    },
    {
     "name": "stderr",
     "output_type": "stream",
     "text": [
      "100%|██████████| 54/54 [00:24<00:00,  2.17it/s]s]\n",
      "100%|██████████| 188/188 [00:36<00:00,  5.14it/s]\n",
      "100%|██████████| 256/256 [01:12<00:00,  3.53it/s]\n"
     ]
    },
    {
     "name": "stdout",
     "output_type": "stream",
     "text": [
      "Fin de phase !\n",
      "tel-00152614v1.pdf\n",
      "tel-02796104v1.pdf\n"
     ]
    },
    {
     "name": "stderr",
     "output_type": "stream",
     "text": [
      "  7%|▋         | 15/227 [00:02<00:28,  7.54it/s]"
     ]
    },
    {
     "name": "stdout",
     "output_type": "stream",
     "text": [
      "tel-00431166v1.pdf\n"
     ]
    },
    {
     "name": "stderr",
     "output_type": "stream",
     "text": [
      "100%|██████████| 156/156 [00:35<00:00,  4.45it/s]\n",
      "100%|██████████| 251/251 [00:44<00:00,  5.70it/s]\n",
      "100%|██████████| 227/227 [01:21<00:00,  2.79it/s]\n"
     ]
    },
    {
     "name": "stdout",
     "output_type": "stream",
     "text": [
      "Fin de phase !\n",
      "tel-01196002v1.pdf\n",
      "tel-00750199v1.pdf\n"
     ]
    },
    {
     "name": "stderr",
     "output_type": "stream",
     "text": [
      "  1%|          | 1/99 [00:00<00:15,  6.25it/s]"
     ]
    },
    {
     "name": "stdout",
     "output_type": "stream",
     "text": [
      "tel-02801570v1.pdf\n"
     ]
    },
    {
     "name": "stderr",
     "output_type": "stream",
     "text": [
      "100%|██████████| 2/2 [00:00<00:00, 10.34it/s]]\n",
      "  5%|▌         | 5/99 [00:00<00:12,  7.40it/s]"
     ]
    },
    {
     "name": "stdout",
     "output_type": "stream",
     "text": [
      "Trop peu de pages lues\n"
     ]
    },
    {
     "name": "stderr",
     "output_type": "stream",
     "text": [
      "100%|██████████| 99/99 [00:16<00:00,  5.92it/s]]\n",
      "100%|██████████| 210/210 [00:37<00:00,  5.57it/s]\n"
     ]
    },
    {
     "name": "stdout",
     "output_type": "stream",
     "text": [
      "Problème traitement\n",
      "Fin de phase !\n",
      "tel-01304671v1.pdf\n"
     ]
    },
    {
     "name": "stderr",
     "output_type": "stream",
     "text": [
      "  6%|▌         | 5/85 [00:00<00:17,  4.65it/s]"
     ]
    },
    {
     "name": "stdout",
     "output_type": "stream",
     "text": [
      "tel-01674236v2.pdf\n"
     ]
    },
    {
     "name": "stderr",
     "output_type": "stream",
     "text": [
      "  0%|          | 1/474 [00:00<02:08,  3.67it/s]"
     ]
    },
    {
     "name": "stdout",
     "output_type": "stream",
     "text": [
      "tel-01748166v1.pdf\n"
     ]
    },
    {
     "name": "stderr",
     "output_type": "stream",
     "text": [
      "100%|██████████| 85/85 [00:34<00:00,  2.47it/s]s]\n"
     ]
    },
    {
     "name": "stdout",
     "output_type": "stream",
     "text": [
      "Trop de page avec phrases collées\n"
     ]
    },
    {
     "name": "stderr",
     "output_type": "stream",
     "text": [
      "\r\n",
      " 32%|███▏      | 153/474 [00:32<01:40,  3.19it/s]"
     ]
    },
    {
     "name": "stdout",
     "output_type": "stream",
     "text": [
      "Problème traitement\n"
     ]
    },
    {
     "name": "stderr",
     "output_type": "stream",
     "text": [
      "100%|██████████| 216/216 [00:53<00:00,  4.07it/s]\n",
      "100%|██████████| 474/474 [01:27<00:00,  5.39it/s]\n"
     ]
    },
    {
     "name": "stdout",
     "output_type": "stream",
     "text": [
      "Fin de phase !\n",
      "tel-01556471v1.pdf\n",
      "tel-01555492v1.pdf\n"
     ]
    },
    {
     "name": "stderr",
     "output_type": "stream",
     "text": [
      "  9%|▊         | 15/172 [00:03<00:41,  3.82it/s]"
     ]
    },
    {
     "name": "stdout",
     "output_type": "stream",
     "text": [
      "tel-00952370v1.pdf\n"
     ]
    },
    {
     "name": "stderr",
     "output_type": "stream",
     "text": [
      "100%|██████████| 98/98 [00:27<00:00,  3.61it/s]s]\n",
      "100%|██████████| 172/172 [00:43<00:00,  3.95it/s]\n",
      "100%|██████████| 167/167 [00:46<00:00,  3.60it/s]\n"
     ]
    },
    {
     "name": "stdout",
     "output_type": "stream",
     "text": [
      "Trop de page avec phrases collées\n",
      "Problème traitement\n",
      "Fin de phase !\n",
      "tel-01165207v1.pdf\n"
     ]
    },
    {
     "name": "stderr",
     "output_type": "stream",
     "text": [
      "  1%|          | 3/367 [00:00<01:28,  4.12it/s]"
     ]
    },
    {
     "name": "stdout",
     "output_type": "stream",
     "text": [
      "pastel-00006081v1.pdf\n"
     ]
    },
    {
     "name": "stderr",
     "output_type": "stream",
     "text": [
      "  2%|▏         | 9/367 [00:02<01:20,  4.45it/s]"
     ]
    },
    {
     "name": "stdout",
     "output_type": "stream",
     "text": [
      "tel-01875709v1.pdf\n"
     ]
    },
    {
     "name": "stderr",
     "output_type": "stream",
     "text": [
      "100%|██████████| 191/191 [00:40<00:00,  4.73it/s]\n",
      "100%|██████████| 383/383 [01:27<00:00,  4.40it/s]\n",
      "100%|██████████| 367/367 [01:38<00:00,  3.74it/s]\n"
     ]
    },
    {
     "name": "stdout",
     "output_type": "stream",
     "text": [
      "Trop de page avec phrases collées\n",
      "Problème traitement\n",
      "Fin de phase !\n",
      "tel-02811343v1.pdf\n"
     ]
    },
    {
     "name": "stderr",
     "output_type": "stream",
     "text": [
      " 18%|█▊        | 31/173 [00:05<00:37,  3.80it/s]"
     ]
    },
    {
     "name": "stdout",
     "output_type": "stream",
     "text": [
      "tel-02796452v1.pdf\n"
     ]
    },
    {
     "name": "stderr",
     "output_type": "stream",
     "text": [
      " 23%|██▎       | 39/173 [00:07<00:34,  3.89it/s]"
     ]
    },
    {
     "name": "stdout",
     "output_type": "stream",
     "text": [
      "tel-01749764v1.pdf\n"
     ]
    },
    {
     "name": "stderr",
     "output_type": "stream",
     "text": [
      "100%|██████████| 173/173 [00:39<00:00,  4.38it/s]\n",
      "100%|██████████| 168/168 [00:33<00:00,  5.08it/s]\n",
      "100%|██████████| 267/267 [01:04<00:00,  4.13it/s]\n"
     ]
    },
    {
     "name": "stdout",
     "output_type": "stream",
     "text": [
      "Fin de phase !\n",
      "tel-02828625v1.pdf\n",
      "tel-00599428v1.pdf\n"
     ]
    },
    {
     "name": "stderr",
     "output_type": "stream",
     "text": [
      "  1%|          | 1/184 [00:00<00:39,  4.60it/s]"
     ]
    },
    {
     "name": "stdout",
     "output_type": "stream",
     "text": [
      "tel-00668395v1.pdf\n"
     ]
    },
    {
     "name": "stderr",
     "output_type": "stream",
     "text": [
      "100%|██████████| 255/255 [00:50<00:00,  5.02it/s]\n",
      "100%|██████████| 298/298 [00:56<00:00,  5.25it/s]\n",
      "100%|██████████| 184/184 [01:36<00:00,  1.92it/s]\n"
     ]
    },
    {
     "name": "stdout",
     "output_type": "stream",
     "text": [
      "Trop de page avec phrases collées\n",
      "Problème traitement\n",
      "Fin de phase !\n",
      "tel-00814513v1.pdf\n",
      "tel-02795645v1.pdf\n"
     ]
    },
    {
     "name": "stderr",
     "output_type": "stream",
     "text": [
      "  3%|▎         | 3/88 [00:00<00:18,  4.71it/s]"
     ]
    },
    {
     "name": "stdout",
     "output_type": "stream",
     "text": [
      "tel-01718270v1.pdf\n"
     ]
    },
    {
     "name": "stderr",
     "output_type": "stream",
     "text": [
      "100%|██████████| 88/88 [00:28<00:00,  3.07it/s]]]\n",
      "100%|██████████| 152/152 [00:36<00:00,  4.16it/s]\n",
      "100%|██████████| 223/223 [00:59<00:00,  3.73it/s]\n"
     ]
    },
    {
     "name": "stdout",
     "output_type": "stream",
     "text": [
      "Trop de page avec phrases collées\n",
      "Problème traitement\n",
      "Fin de phase !\n",
      "tel-01749716v1.pdf\n",
      "tel-02792410v1.pdf\n"
     ]
    },
    {
     "name": "stderr",
     "output_type": "stream",
     "text": [
      "100%|██████████| 2/2 [00:00<00:00,  4.54it/s]\n"
     ]
    },
    {
     "name": "stdout",
     "output_type": "stream",
     "text": [
      "Trop peu de pages lues\n"
     ]
    },
    {
     "name": "stderr",
     "output_type": "stream",
     "text": [
      "  7%|▋         | 19/281 [00:02<00:36,  7.25it/s]"
     ]
    },
    {
     "name": "stdout",
     "output_type": "stream",
     "text": [
      "tel-01587807v1.pdf\n"
     ]
    },
    {
     "name": "stderr",
     "output_type": "stream",
     "text": [
      "100%|██████████| 285/285 [00:41<00:00,  6.86it/s]\n",
      " 62%|██████▏   | 175/281 [00:46<00:36,  2.90it/s]"
     ]
    },
    {
     "name": "stdout",
     "output_type": "stream",
     "text": [
      "Trop de page avec phrases collées\n"
     ]
    },
    {
     "name": "stderr",
     "output_type": "stream",
     "text": [
      "100%|██████████| 281/281 [01:05<00:00,  4.27it/s]\n"
     ]
    },
    {
     "name": "stdout",
     "output_type": "stream",
     "text": [
      "Problème traitement\n",
      "Problème traitement\n",
      "Fin de phase !\n",
      "tel-01278275v1.pdf\n"
     ]
    },
    {
     "name": "stderr",
     "output_type": "stream",
     "text": [
      "  1%|          | 1/118 [00:00<00:22,  5.11it/s]"
     ]
    },
    {
     "name": "stdout",
     "output_type": "stream",
     "text": [
      "tel-02796238v1.pdf\n"
     ]
    },
    {
     "name": "stderr",
     "output_type": "stream",
     "text": [
      "  4%|▍         | 5/118 [00:00<00:18,  6.06it/s]"
     ]
    },
    {
     "name": "stdout",
     "output_type": "stream",
     "text": [
      "tel-00121899v1.pdf\n"
     ]
    },
    {
     "name": "stderr",
     "output_type": "stream",
     "text": [
      "100%|██████████| 118/118 [00:25<00:00,  4.72it/s]\n",
      "100%|██████████| 143/143 [00:37<00:00,  3.80it/s]\n",
      "100%|██████████| 155/155 [00:42<00:00,  3.68it/s]\n"
     ]
    },
    {
     "name": "stdout",
     "output_type": "stream",
     "text": [
      "Fin de phase !\n",
      "tel-02809147v1.pdf\n",
      "tel-00635493v1.pdf\n"
     ]
    },
    {
     "name": "stderr",
     "output_type": "stream",
     "text": [
      " 11%|█         | 27/256 [00:04<00:45,  5.08it/s]"
     ]
    },
    {
     "name": "stdout",
     "output_type": "stream",
     "text": [
      "tel-02153559v1.pdf\n"
     ]
    },
    {
     "name": "stderr",
     "output_type": "stream",
     "text": [
      "100%|██████████| 97/97 [00:54<00:00,  1.79it/s]s]\n"
     ]
    },
    {
     "name": "stdout",
     "output_type": "stream",
     "text": [
      "Trop de page avec phrases collées\n"
     ]
    },
    {
     "name": "stderr",
     "output_type": "stream",
     "text": [
      "100%|██████████| 207/207 [00:57<00:00,  3.62it/s]\n",
      "100%|██████████| 256/256 [02:26<00:00,  1.75it/s]\n"
     ]
    },
    {
     "name": "stdout",
     "output_type": "stream",
     "text": [
      "Problème traitement\n",
      "Fin de phase !\n",
      "tel-01777326v1.pdf\n"
     ]
    },
    {
     "name": "stderr",
     "output_type": "stream",
     "text": [
      "  1%|          | 3/291 [00:00<00:51,  5.56it/s]"
     ]
    },
    {
     "name": "stdout",
     "output_type": "stream",
     "text": [
      "tel-02498193v1.pdf\n"
     ]
    },
    {
     "name": "stderr",
     "output_type": "stream",
     "text": [
      "\r\n",
      "  2%|▏         | 5/291 [00:00<00:56,  5.03it/s]"
     ]
    },
    {
     "name": "stdout",
     "output_type": "stream",
     "text": [
      "tel-00109898v1.pdf\n"
     ]
    },
    {
     "name": "stderr",
     "output_type": "stream",
     "text": [
      "100%|██████████| 127/127 [00:32<00:00,  3.96it/s]\n",
      "100%|██████████| 172/172 [00:35<00:00,  4.83it/s]\n",
      "100%|██████████| 291/291 [01:00<00:00,  4.83it/s]\n"
     ]
    },
    {
     "name": "stdout",
     "output_type": "stream",
     "text": [
      "Fin de phase !\n",
      "tel-00285035v1.pdf\n"
     ]
    },
    {
     "name": "stderr",
     "output_type": "stream",
     "text": [
      " 22%|██▏       | 29/134 [00:04<00:22,  4.68it/s]"
     ]
    },
    {
     "name": "stdout",
     "output_type": "stream",
     "text": [
      "tel-02294499v1.pdf\n"
     ]
    },
    {
     "name": "stderr",
     "output_type": "stream",
     "text": [
      " 28%|██▊       | 37/134 [00:06<00:22,  4.29it/s]"
     ]
    },
    {
     "name": "stdout",
     "output_type": "stream",
     "text": [
      "tel-02786223v1.pdf\n"
     ]
    },
    {
     "name": "stderr",
     "output_type": "stream",
     "text": [
      "100%|██████████| 134/134 [00:40<00:00,  3.29it/s]\n",
      "100%|██████████| 277/277 [01:04<00:00,  4.32it/s]\n",
      "100%|██████████| 290/290 [01:11<00:00,  4.08it/s]\n"
     ]
    },
    {
     "name": "stdout",
     "output_type": "stream",
     "text": [
      "Fin de phase !\n",
      "tel-02918100v1.pdf\n"
     ]
    },
    {
     "name": "stderr",
     "output_type": "stream",
     "text": [
      "  2%|▏         | 5/252 [00:00<00:54,  4.56it/s]"
     ]
    },
    {
     "name": "stdout",
     "output_type": "stream",
     "text": [
      "tel-00069635v2.pdf\n"
     ]
    },
    {
     "name": "stderr",
     "output_type": "stream",
     "text": [
      " 19%|█▊        | 47/252 [00:09<00:44,  4.65it/s]"
     ]
    },
    {
     "name": "stdout",
     "output_type": "stream",
     "text": [
      "tel-00128127v1.pdf\n"
     ]
    },
    {
     "name": "stderr",
     "output_type": "stream",
     "text": [
      "100%|██████████| 288/288 [01:02<00:00,  4.61it/s]\n",
      "100%|██████████| 252/252 [01:17<00:00,  3.25it/s]\n",
      "100%|██████████| 168/168 [01:17<00:00,  2.16it/s]\n"
     ]
    },
    {
     "name": "stdout",
     "output_type": "stream",
     "text": [
      "Fin de phase !\n",
      "Thèse trop lourde\n",
      "tel-01271298v1.pdf\n"
     ]
    },
    {
     "name": "stderr",
     "output_type": "stream",
     "text": [
      "\r\n",
      "  0%|          | 0/96 [00:00<?, ?it/s]"
     ]
    },
    {
     "name": "stdout",
     "output_type": "stream",
     "text": [
      "tel-00480892v1.pdf\n"
     ]
    },
    {
     "name": "stderr",
     "output_type": "stream",
     "text": [
      "100%|██████████| 96/96 [00:33<00:00,  2.87it/s]s]\n",
      "100%|██████████| 163/163 [00:37<00:00,  4.32it/s]\n"
     ]
    },
    {
     "name": "stdout",
     "output_type": "stream",
     "text": [
      "Fin de phase !\n",
      "Thèse trop lourde\n",
      "tel-01446956v1.pdf\n"
     ]
    },
    {
     "name": "stderr",
     "output_type": "stream",
     "text": [
      "  2%|▏         | 5/277 [00:00<00:47,  5.67it/s]"
     ]
    },
    {
     "name": "stdout",
     "output_type": "stream",
     "text": [
      "tel-01167760v1.pdf\n"
     ]
    },
    {
     "name": "stderr",
     "output_type": "stream",
     "text": [
      "100%|██████████| 277/277 [01:20<00:00,  3.42it/s]\n",
      "100%|██████████| 191/191 [02:43<00:00,  1.17it/s]\n"
     ]
    },
    {
     "name": "stdout",
     "output_type": "stream",
     "text": [
      "Fin de phase !\n",
      "tel-00930943v1.pdf\n",
      "tel-00003477v1.pdf\n",
      "tel-01087022v1.pdf"
     ]
    },
    {
     "name": "stderr",
     "output_type": "stream",
     "text": [
      "\r\n",
      "  0%|          | 0/214 [00:00<?, ?it/s]"
     ]
    },
    {
     "name": "stdout",
     "output_type": "stream",
     "text": [
      "\n"
     ]
    },
    {
     "name": "stderr",
     "output_type": "stream",
     "text": [
      "100%|██████████| 91/91 [00:22<00:00,  3.97it/s]s]\n",
      "100%|██████████| 214/214 [00:40<00:00,  5.22it/s]\n",
      "100%|██████████| 269/269 [01:07<00:00,  3.98it/s]\n"
     ]
    },
    {
     "name": "stdout",
     "output_type": "stream",
     "text": [
      "Fin de phase !\n",
      "Thèse trop lourde\n",
      "tel-00652084v1.pdf\n",
      "tel-00820089v1.pdf\n"
     ]
    },
    {
     "name": "stderr",
     "output_type": "stream",
     "text": [
      "100%|██████████| 163/163 [00:38<00:00,  4.25it/s]\n",
      "100%|██████████| 172/172 [00:42<00:00,  4.06it/s]\n"
     ]
    },
    {
     "name": "stdout",
     "output_type": "stream",
     "text": [
      "Trop de page avec phrases collées\n",
      "Problème traitement\n",
      "Fin de phase !\n",
      "tel-02090542v1.pdf\n"
     ]
    },
    {
     "name": "stderr",
     "output_type": "stream",
     "text": [
      "  3%|▎         | 3/114 [00:00<00:30,  3.64it/s]"
     ]
    },
    {
     "name": "stdout",
     "output_type": "stream",
     "text": [
      "tel-02871076v1.pdf\n"
     ]
    },
    {
     "name": "stderr",
     "output_type": "stream",
     "text": [
      "\r\n",
      "  4%|▍         | 5/114 [00:01<00:27,  3.98it/s]"
     ]
    },
    {
     "name": "stdout",
     "output_type": "stream",
     "text": [
      "tel-02806502v1.pdf\n"
     ]
    },
    {
     "name": "stderr",
     "output_type": "stream",
     "text": [
      "100%|██████████| 3/3 [00:00<00:00,  4.00it/s]s]\n",
      "  8%|▊         | 9/114 [00:02<00:30,  3.48it/s]"
     ]
    },
    {
     "name": "stdout",
     "output_type": "stream",
     "text": [
      "Trop peu de pages lues\n"
     ]
    },
    {
     "name": "stderr",
     "output_type": "stream",
     "text": [
      "100%|██████████| 114/114 [00:25<00:00,  4.43it/s]\n",
      "100%|██████████| 166/166 [00:43<00:00,  3.79it/s]\n"
     ]
    },
    {
     "name": "stdout",
     "output_type": "stream",
     "text": [
      "Problème traitement\n",
      "Fin de phase !\n",
      "tel-02819369v1.pdf\n"
     ]
    },
    {
     "name": "stderr",
     "output_type": "stream",
     "text": [
      "  2%|▏         | 5/227 [00:01<01:18,  2.83it/s]"
     ]
    },
    {
     "name": "stdout",
     "output_type": "stream",
     "text": [
      "tel-02434808v1.pdf\n"
     ]
    },
    {
     "name": "stderr",
     "output_type": "stream",
     "text": [
      "  4%|▍         | 9/227 [00:02<00:56,  3.87it/s]"
     ]
    },
    {
     "name": "stdout",
     "output_type": "stream",
     "text": [
      "tel-00576728v1.pdf\n"
     ]
    },
    {
     "name": "stderr",
     "output_type": "stream",
     "text": [
      "100%|██████████| 30/30 [00:12<00:00,  2.32it/s]]\n"
     ]
    },
    {
     "name": "stdout",
     "output_type": "stream",
     "text": [
      "Trop peu de pages lues\n"
     ]
    },
    {
     "name": "stderr",
     "output_type": "stream",
     "text": [
      "100%|██████████| 201/201 [00:29<00:00,  6.84it/s]\n",
      "100%|██████████| 227/227 [01:00<00:00,  3.76it/s]\n"
     ]
    },
    {
     "name": "stdout",
     "output_type": "stream",
     "text": [
      "Problème traitement\n",
      "Fin de phase !\n",
      "tel-00112419v1.pdf\n"
     ]
    },
    {
     "name": "stderr",
     "output_type": "stream",
     "text": [
      "  4%|▍         | 3/77 [00:00<00:12,  5.92it/s]"
     ]
    },
    {
     "name": "stdout",
     "output_type": "stream",
     "text": [
      "tel-02823598v1.pdf\n"
     ]
    },
    {
     "name": "stderr",
     "output_type": "stream",
     "text": [
      " 12%|█▏        | 9/77 [00:01<00:14,  4.58it/s]"
     ]
    },
    {
     "name": "stdout",
     "output_type": "stream",
     "text": [
      "tel-00009344v1.pdf\n"
     ]
    },
    {
     "name": "stderr",
     "output_type": "stream",
     "text": [
      "100%|██████████| 77/77 [00:15<00:00,  5.13it/s]]\n",
      "100%|██████████| 225/225 [00:53<00:00,  4.20it/s]\n",
      "100%|██████████| 211/211 [00:59<00:00,  3.55it/s]\n"
     ]
    },
    {
     "name": "stdout",
     "output_type": "stream",
     "text": [
      "Fin de phase !\n",
      "tel-01776010v1.pdf\n"
     ]
    },
    {
     "name": "stderr",
     "output_type": "stream",
     "text": [
      "  8%|▊         | 21/253 [00:03<00:36,  6.41it/s]"
     ]
    },
    {
     "name": "stdout",
     "output_type": "stream",
     "text": [
      "tel-00553511v1.pdf\n"
     ]
    },
    {
     "name": "stderr",
     "output_type": "stream",
     "text": [
      " 11%|█         | 27/253 [00:04<00:36,  6.25it/s]"
     ]
    },
    {
     "name": "stdout",
     "output_type": "stream",
     "text": [
      "tel-02809824v1.pdf\n"
     ]
    },
    {
     "name": "stderr",
     "output_type": "stream",
     "text": [
      "100%|██████████| 131/131 [00:29<00:00,  4.38it/s]\n",
      "100%|██████████| 176/176 [00:42<00:00,  4.18it/s]\n",
      "100%|██████████| 253/253 [01:00<00:00,  4.19it/s]\n"
     ]
    },
    {
     "name": "stdout",
     "output_type": "stream",
     "text": [
      "Fin de phase !\n",
      "tel-02823329v1.pdf\n",
      "tel-01059790v1.pdf\n"
     ]
    },
    {
     "name": "stderr",
     "output_type": "stream",
     "text": [
      "  2%|▏         | 3/193 [00:00<00:45,  4.14it/s]"
     ]
    },
    {
     "name": "stdout",
     "output_type": "stream",
     "text": [
      "tel-01769717v1.pdf\n"
     ]
    },
    {
     "name": "stderr",
     "output_type": "stream",
     "text": [
      "100%|██████████| 193/193 [00:32<00:00,  5.88it/s]\n",
      "100%|██████████| 163/163 [00:37<00:00,  4.30it/s]\n",
      "100%|██████████| 236/236 [01:23<00:00,  2.83it/s]\n"
     ]
    },
    {
     "name": "stdout",
     "output_type": "stream",
     "text": [
      "Fin de phase !\n",
      "tel-00271207v1.pdf\n"
     ]
    },
    {
     "name": "stderr",
     "output_type": "stream",
     "text": [
      "  2%|▏         | 1/57 [00:00<00:15,  3.70it/s]"
     ]
    },
    {
     "name": "stdout",
     "output_type": "stream",
     "text": [
      "tel-00825481v1.pdf\n"
     ]
    },
    {
     "name": "stderr",
     "output_type": "stream",
     "text": [
      " 12%|█▏        | 7/57 [00:01<00:13,  3.77it/s]"
     ]
    },
    {
     "name": "stdout",
     "output_type": "stream",
     "text": [
      "tel-02320413v1.pdf\n"
     ]
    },
    {
     "name": "stderr",
     "output_type": "stream",
     "text": [
      "100%|██████████| 57/57 [00:28<00:00,  2.02it/s]s]\n",
      "100%|██████████| 171/171 [00:30<00:00,  5.53it/s]\n",
      "100%|██████████| 244/244 [00:50<00:00,  4.80it/s]\n"
     ]
    },
    {
     "name": "stdout",
     "output_type": "stream",
     "text": [
      "Trop de page avec phrases collées\n",
      "Problème traitement\n",
      "Fin de phase !\n",
      "tel-00595034v1.pdf\n"
     ]
    },
    {
     "name": "stderr",
     "output_type": "stream",
     "text": [
      " 11%|█▏        | 5/44 [00:00<00:07,  5.23it/s]"
     ]
    },
    {
     "name": "stdout",
     "output_type": "stream",
     "text": [
      "pastel-00003706v1.pdf\n"
     ]
    },
    {
     "name": "stderr",
     "output_type": "stream",
     "text": [
      " 20%|██        | 9/44 [00:02<00:09,  3.70it/s]"
     ]
    },
    {
     "name": "stdout",
     "output_type": "stream",
     "text": [
      "tel-00827526v1.pdf\n"
     ]
    },
    {
     "name": "stderr",
     "output_type": "stream",
     "text": [
      "100%|██████████| 44/44 [00:11<00:00,  3.81it/s]]\n",
      "100%|██████████| 200/200 [01:00<00:00,  3.32it/s]\n",
      "100%|██████████| 336/336 [03:02<00:00,  1.84it/s]\n"
     ]
    },
    {
     "name": "stdout",
     "output_type": "stream",
     "text": [
      "Fin de phase !\n",
      "tel-01124226v1.pdf\n",
      "tel-00184157v1.pdf\n"
     ]
    },
    {
     "name": "stderr",
     "output_type": "stream",
     "text": [
      "  0%|          | 1/203 [00:00<01:02,  3.24it/s]"
     ]
    },
    {
     "name": "stdout",
     "output_type": "stream",
     "text": [
      "tel-01777321v1.pdf\n"
     ]
    },
    {
     "name": "stderr",
     "output_type": "stream",
     "text": [
      "100%|██████████| 142/142 [00:23<00:00,  6.00it/s]\n",
      "100%|██████████| 203/203 [00:38<00:00,  5.29it/s]\n",
      "100%|██████████| 274/274 [00:51<00:00,  5.34it/s]\n"
     ]
    },
    {
     "name": "stdout",
     "output_type": "stream",
     "text": [
      "Trop de page avec phrases collées\n",
      "Problème traitement\n",
      "Fin de phase !\n",
      "tel-00168863v1.pdf\n"
     ]
    },
    {
     "name": "stderr",
     "output_type": "stream",
     "text": [
      "  2%|▏         | 3/186 [00:00<00:31,  5.75it/s]"
     ]
    },
    {
     "name": "stdout",
     "output_type": "stream",
     "text": [
      "tel-02791416v1.pdf\n"
     ]
    },
    {
     "name": "stderr",
     "output_type": "stream",
     "text": [
      "  7%|▋         | 15/212 [00:02<00:41,  4.76it/s]"
     ]
    },
    {
     "name": "stdout",
     "output_type": "stream",
     "text": [
      "tel-02794922v1.pdf\n"
     ]
    },
    {
     "name": "stderr",
     "output_type": "stream",
     "text": [
      "100%|██████████| 186/186 [00:37<00:00,  4.90it/s]\n",
      "100%|██████████| 212/212 [00:41<00:00,  5.16it/s]\n",
      "100%|██████████| 171/171 [01:05<00:00,  2.62it/s]\n"
     ]
    },
    {
     "name": "stdout",
     "output_type": "stream",
     "text": [
      "Fin de phase !\n",
      "tel-02803387v1.pdf\n",
      "tel-02809612v1.pdf\n"
     ]
    },
    {
     "name": "stderr",
     "output_type": "stream",
     "text": [
      "  1%|          | 1/171 [00:00<00:50,  3.34it/s]"
     ]
    },
    {
     "name": "stdout",
     "output_type": "stream",
     "text": [
      "tel-01219807v1.pdf\n"
     ]
    },
    {
     "name": "stderr",
     "output_type": "stream",
     "text": [
      "100%|██████████| 171/171 [00:27<00:00,  6.20it/s]\n",
      "100%|██████████| 196/196 [00:39<00:00,  4.96it/s]\n",
      "100%|██████████| 222/222 [01:24<00:00,  2.63it/s]\n"
     ]
    },
    {
     "name": "stdout",
     "output_type": "stream",
     "text": [
      "Trop de page avec phrases collées\n",
      "Problème traitement\n",
      "Fin de phase !\n",
      "pastel-00003094v1.pdf\n",
      "tel-00447060v1.pdf\n"
     ]
    },
    {
     "name": "stderr",
     "output_type": "stream",
     "text": [
      "  0%|          | 1/227 [00:00<00:50,  4.52it/s]"
     ]
    },
    {
     "name": "stdout",
     "output_type": "stream",
     "text": [
      "tel-00750375v1.pdf\n"
     ]
    },
    {
     "name": "stderr",
     "output_type": "stream",
     "text": [
      "100%|██████████| 86/86 [00:26<00:00,  3.21it/s]s]\n"
     ]
    },
    {
     "name": "stdout",
     "output_type": "stream",
     "text": [
      "Trop de page avec phrases collées\n"
     ]
    },
    {
     "name": "stderr",
     "output_type": "stream",
     "text": [
      "100%|██████████| 201/201 [00:32<00:00,  6.11it/s]\n",
      "100%|██████████| 227/227 [00:59<00:00,  3.84it/s]\n"
     ]
    },
    {
     "name": "stdout",
     "output_type": "stream",
     "text": [
      "Problème traitement\n",
      "Fin de phase !\n",
      "tel-02811182v1.pdf\n",
      "tel-02834200v1.pdf\n"
     ]
    },
    {
     "name": "stderr",
     "output_type": "stream",
     "text": [
      "  0%|          | 0/285 [00:00<?, ?it/s].12it/s]"
     ]
    },
    {
     "name": "stdout",
     "output_type": "stream",
     "text": [
      "tel-01691741v1.pdf\n"
     ]
    },
    {
     "name": "stderr",
     "output_type": "stream",
     "text": [
      "100%|██████████| 178/178 [00:38<00:00,  4.67it/s]\n",
      "100%|██████████| 218/218 [01:01<00:00,  3.53it/s]\n",
      "100%|██████████| 285/285 [01:05<00:00,  4.34it/s]\n"
     ]
    },
    {
     "name": "stdout",
     "output_type": "stream",
     "text": [
      "Fin de phase !\n",
      "tel-01371720v1.pdf\n"
     ]
    },
    {
     "name": "stderr",
     "output_type": "stream",
     "text": [
      "  4%|▍         | 11/292 [00:01<01:02,  4.47it/s]"
     ]
    },
    {
     "name": "stdout",
     "output_type": "stream",
     "text": [
      "tel-01829464v1.pdf\n"
     ]
    },
    {
     "name": "stderr",
     "output_type": "stream",
     "text": [
      "  6%|▌         | 17/292 [00:03<00:52,  5.26it/s]"
     ]
    },
    {
     "name": "stdout",
     "output_type": "stream",
     "text": [
      "tel-01672442v1.pdf\n"
     ]
    },
    {
     "name": "stderr",
     "output_type": "stream",
     "text": [
      "100%|██████████| 145/145 [00:25<00:00,  5.68it/s]\n",
      "100%|██████████| 292/292 [01:05<00:00,  4.46it/s]\n",
      "100%|██████████| 262/262 [01:34<00:00,  2.77it/s]\n"
     ]
    },
    {
     "name": "stdout",
     "output_type": "stream",
     "text": [
      "Fin de phase !\n",
      "tel-02272897v1.pdf\n"
     ]
    },
    {
     "name": "stderr",
     "output_type": "stream",
     "text": [
      "\r\n",
      "  0%|          | 0/323 [00:00<?, ?it/s]"
     ]
    },
    {
     "name": "stdout",
     "output_type": "stream",
     "text": [
      "tel-01785379v1.pdf\n"
     ]
    },
    {
     "name": "stderr",
     "output_type": "stream",
     "text": [
      " 14%|█▍        | 45/323 [00:10<00:58,  4.77it/s]"
     ]
    },
    {
     "name": "stdout",
     "output_type": "stream",
     "text": [
      "Thèse trop lourde\n"
     ]
    },
    {
     "name": "stderr",
     "output_type": "stream",
     "text": [
      "100%|██████████| 195/195 [00:49<00:00,  3.92it/s]\n",
      " 74%|███████▍  | 239/323 [00:53<00:20,  4.19it/s]"
     ]
    },
    {
     "name": "stdout",
     "output_type": "stream",
     "text": [
      "Trop de page avec phrases collées\n"
     ]
    },
    {
     "name": "stderr",
     "output_type": "stream",
     "text": [
      "100%|██████████| 323/323 [01:13<00:00,  4.40it/s]\n"
     ]
    },
    {
     "name": "stdout",
     "output_type": "stream",
     "text": [
      "Problème traitement\n",
      "Fin de phase !\n",
      "tel-01749940v1.pdf\n"
     ]
    },
    {
     "name": "stderr",
     "output_type": "stream",
     "text": [
      "\r\n",
      "  0%|          | 0/232 [00:00<?, ?it/s]"
     ]
    },
    {
     "name": "stdout",
     "output_type": "stream",
     "text": [
      "tel-00367158v1.pdf\n"
     ]
    },
    {
     "name": "stderr",
     "output_type": "stream",
     "text": [
      " 64%|██████▎   | 61/96 [00:22<00:08,  4.21it/s]s]"
     ]
    },
    {
     "name": "stdout",
     "output_type": "stream",
     "text": [
      "Thèse trop lourde\n"
     ]
    },
    {
     "name": "stderr",
     "output_type": "stream",
     "text": [
      "100%|██████████| 96/96 [00:34<00:00,  2.76it/s]s]\n",
      "100%|██████████| 232/232 [00:42<00:00,  5.48it/s]\n"
     ]
    },
    {
     "name": "stdout",
     "output_type": "stream",
     "text": [
      "Fin de phase !\n",
      "tel-01534703v1.pdf\n"
     ]
    },
    {
     "name": "stderr",
     "output_type": "stream",
     "text": [
      " 74%|███████▍  | 49/66 [00:08<00:03,  5.18it/s]"
     ]
    },
    {
     "name": "stdout",
     "output_type": "stream",
     "text": [
      "Thèse trop lourde\n"
     ]
    },
    {
     "name": "stderr",
     "output_type": "stream",
     "text": [
      " 86%|████████▋ | 57/66 [00:10<00:01,  6.20it/s]"
     ]
    },
    {
     "name": "stdout",
     "output_type": "stream",
     "text": [
      "tel-00734365v1.pdf\n"
     ]
    },
    {
     "name": "stderr",
     "output_type": "stream",
     "text": [
      "100%|██████████| 66/66 [00:11<00:00,  5.75it/s]\n",
      "100%|██████████| 271/271 [00:35<00:00,  7.67it/s]\n"
     ]
    },
    {
     "name": "stdout",
     "output_type": "stream",
     "text": [
      "Fin de phase !\n",
      "tel-00418811v1.pdf\n"
     ]
    },
    {
     "name": "stderr",
     "output_type": "stream",
     "text": [
      "  8%|▊         | 5/59 [00:00<00:10,  5.15it/s]"
     ]
    },
    {
     "name": "stdout",
     "output_type": "stream",
     "text": [
      "\n",
      "tel-02518854v1.pdf"
     ]
    },
    {
     "name": "stderr",
     "output_type": "stream",
     "text": [
      " 21%|██        | 21/102 [00:03<00:16,  4.90it/s]"
     ]
    },
    {
     "name": "stdout",
     "output_type": "stream",
     "text": [
      "tel-01754596v1.pdf\n"
     ]
    },
    {
     "name": "stderr",
     "output_type": "stream",
     "text": [
      "100%|██████████| 102/102 [00:27<00:00,  3.68it/s]\n"
     ]
    },
    {
     "name": "stdout",
     "output_type": "stream",
     "text": [
      "Trop de page avec phrases collées\n"
     ]
    },
    {
     "name": "stderr",
     "output_type": "stream",
     "text": [
      "100%|██████████| 59/59 [00:39<00:00,  1.50it/s]]\n",
      " 33%|███▎      | 83/251 [00:34<00:37,  4.48it/s]"
     ]
    },
    {
     "name": "stdout",
     "output_type": "stream",
     "text": [
      "Problème traitement\n"
     ]
    },
    {
     "name": "stderr",
     "output_type": "stream",
     "text": [
      "100%|██████████| 251/251 [05:01<00:00,  1.20s/it]\n"
     ]
    },
    {
     "name": "stdout",
     "output_type": "stream",
     "text": [
      "Fin de phase !\n",
      "tel-02801967v1.pdf\n",
      "tel-00553306v1.pdf\n"
     ]
    },
    {
     "name": "stderr",
     "output_type": "stream",
     "text": [
      "  1%|          | 1/118 [00:00<00:27,  4.23it/s]"
     ]
    },
    {
     "name": "stdout",
     "output_type": "stream",
     "text": [
      "tel-02796139v1.pdf\n"
     ]
    },
    {
     "name": "stderr",
     "output_type": "stream",
     "text": [
      "100%|██████████| 92/92 [00:24<00:00,  3.75it/s]s]\n",
      " 70%|██████▉   | 139/199 [00:25<00:08,  6.90it/s]"
     ]
    },
    {
     "name": "stdout",
     "output_type": "stream",
     "text": [
      "Trop de page avec phrases collées\n"
     ]
    },
    {
     "name": "stderr",
     "output_type": "stream",
     "text": [
      "100%|██████████| 118/118 [00:28<00:00,  4.17it/s]\n",
      "100%|██████████| 199/199 [00:35<00:00,  5.55it/s]\n"
     ]
    },
    {
     "name": "stdout",
     "output_type": "stream",
     "text": [
      "Problème traitement\n",
      "Fin de phase !\n",
      "tel-00007683v1.pdf\n"
     ]
    },
    {
     "name": "stderr",
     "output_type": "stream",
     "text": [
      "  3%|▎         | 5/182 [00:00<00:26,  6.62it/s]"
     ]
    },
    {
     "name": "stdout",
     "output_type": "stream",
     "text": [
      "tel-01677267v1.pdf\n"
     ]
    },
    {
     "name": "stderr",
     "output_type": "stream",
     "text": [
      " 18%|█▊        | 33/182 [00:05<00:31,  4.79it/s]"
     ]
    },
    {
     "name": "stdout",
     "output_type": "stream",
     "text": [
      "tel-01503233v1.pdf\n"
     ]
    },
    {
     "name": "stderr",
     "output_type": "stream",
     "text": [
      "100%|██████████| 222/222 [00:38<00:00,  5.82it/s]\n",
      "100%|██████████| 182/182 [00:45<00:00,  4.00it/s]\n"
     ]
    },
    {
     "name": "stdout",
     "output_type": "stream",
     "text": [
      "Trop de page avec phrases collées\n"
     ]
    },
    {
     "name": "stderr",
     "output_type": "stream",
     "text": [
      "\r\n",
      " 30%|██▉       | 107/357 [00:35<01:22,  3.02it/s]"
     ]
    },
    {
     "name": "stdout",
     "output_type": "stream",
     "text": [
      "Problème traitement\n"
     ]
    },
    {
     "name": "stderr",
     "output_type": "stream",
     "text": [
      "100%|██████████| 357/357 [01:37<00:00,  3.65it/s]\n"
     ]
    },
    {
     "name": "stdout",
     "output_type": "stream",
     "text": [
      "Fin de phase !\n",
      "tel-02319442v1.pdf\n"
     ]
    },
    {
     "name": "stderr",
     "output_type": "stream",
     "text": [
      "  5%|▌         | 7/137 [00:01<00:21,  6.01it/s]"
     ]
    },
    {
     "name": "stdout",
     "output_type": "stream",
     "text": [
      "tel-01754409v1.pdf\n"
     ]
    },
    {
     "name": "stderr",
     "output_type": "stream",
     "text": [
      " 18%|█▊        | 25/137 [00:04<00:22,  5.06it/s]"
     ]
    },
    {
     "name": "stdout",
     "output_type": "stream",
     "text": [
      "tel-00920469v1.pdf\n"
     ]
    },
    {
     "name": "stderr",
     "output_type": "stream",
     "text": [
      "100%|██████████| 137/137 [00:30<00:00,  4.47it/s]\n",
      "100%|██████████| 181/181 [00:29<00:00,  6.14it/s]\n",
      "100%|██████████| 233/233 [01:01<00:00,  3.79it/s]\n"
     ]
    },
    {
     "name": "stdout",
     "output_type": "stream",
     "text": [
      "Fin de phase !\n",
      "Thèse trop lourde\n",
      "tel-02006570v1.pdf\n"
     ]
    },
    {
     "name": "stderr",
     "output_type": "stream",
     "text": [
      "  1%|▏         | 3/211 [00:00<00:34,  6.09it/s]"
     ]
    },
    {
     "name": "stdout",
     "output_type": "stream",
     "text": [
      "tel-00858499v1.pdf\n"
     ]
    },
    {
     "name": "stderr",
     "output_type": "stream",
     "text": [
      "100%|██████████| 211/211 [00:43<00:00,  4.81it/s]\n",
      "100%|██████████| 148/148 [00:44<00:00,  3.33it/s]\n"
     ]
    },
    {
     "name": "stdout",
     "output_type": "stream",
     "text": [
      "Fin de phase !\n",
      "pastel-00003111v1.pdf\n"
     ]
    },
    {
     "name": "stderr",
     "output_type": "stream",
     "text": [
      "\r\n",
      "  0%|          | 0/193 [00:00<?, ?it/s]"
     ]
    },
    {
     "name": "stdout",
     "output_type": "stream",
     "text": [
      "tel-01749704v1.pdf\n"
     ]
    },
    {
     "name": "stderr",
     "output_type": "stream",
     "text": [
      "  7%|▋         | 19/269 [00:01<00:24, 10.11it/s]"
     ]
    },
    {
     "name": "stdout",
     "output_type": "stream",
     "text": [
      "tel-01468265v1.pdf\n"
     ]
    },
    {
     "name": "stderr",
     "output_type": "stream",
     "text": [
      "100%|██████████| 193/193 [00:56<00:00,  3.40it/s]\n",
      "100%|██████████| 269/269 [00:55<00:00,  4.81it/s]\n",
      "100%|██████████| 230/230 [01:01<00:00,  3.74it/s]\n"
     ]
    },
    {
     "name": "stdout",
     "output_type": "stream",
     "text": [
      "Fin de phase !\n",
      "tel-00005703v1.pdf\n"
     ]
    },
    {
     "name": "stderr",
     "output_type": "stream",
     "text": [
      " 17%|█▋        | 35/206 [00:04<00:23,  7.16it/s]"
     ]
    },
    {
     "name": "stdout",
     "output_type": "stream",
     "text": [
      "tel-00364262v1.pdf\n"
     ]
    },
    {
     "name": "stderr",
     "output_type": "stream",
     "text": [
      " 22%|██▏       | 45/206 [00:05<00:26,  6.08it/s]"
     ]
    },
    {
     "name": "stdout",
     "output_type": "stream",
     "text": [
      "tel-00012032v1.pdf\n"
     ]
    },
    {
     "name": "stderr",
     "output_type": "stream",
     "text": [
      "100%|██████████| 206/206 [00:32<00:00,  6.36it/s]\n",
      " 47%|████▋     | 123/262 [01:27<01:26,  1.60it/s]Process Process-485:125:\n",
      "Traceback (most recent call last):\n",
      "  File \"/usr/lib/python3.6/multiprocessing/process.py\", line 258, in _bootstrap\n",
      "    self.run()\n",
      "  File \"/usr/lib/python3.6/multiprocessing/process.py\", line 93, in run\n",
      "    self._target(*self._args, **self._kwargs)\n",
      "  File \"<ipython-input-173-ba1c4fc4abb8>\", line 3, in extraction_remplissage\n",
      "    tuple_inserer = [page.extract_text(), nom, num_page]\n",
      "  File \"/home/eisti/.local/lib/python3.6/site-packages/pdfplumber/page.py\", line 248, in extract_text\n",
      "    return utils.extract_text(self.chars, **kwargs)\n",
      "  File \"/home/eisti/.local/lib/python3.6/site-packages/pdfplumber/container.py\", line 32, in chars\n",
      "    return self.objects.get(\"char\", [])\n",
      "  File \"/home/eisti/.local/lib/python3.6/site-packages/pdfplumber/page.py\", line 152, in objects\n",
      "    self._objects = self.parse_objects()\n",
      "  File \"/home/eisti/.local/lib/python3.6/site-packages/pdfplumber/page.py\", line 210, in parse_objects\n",
      "    for obj in self.iter_layout_objects(self.layout._objs):\n",
      "  File \"/home/eisti/.local/lib/python3.6/site-packages/pdfplumber/page.py\", line 102, in layout\n",
      "    self._layout = self.pdf.process_page(self.page_obj)\n",
      "  File \"/home/eisti/.local/lib/python3.6/site-packages/pdfplumber/pdf.py\", line 66, in process_page\n",
      "    self.interpreter.process_page(page)\n",
      "  File \"/home/eisti/.local/lib/python3.6/site-packages/pdfminer/pdfinterp.py\", line 895, in process_page\n",
      "    self.render_contents(page.resources, page.contents, ctm=ctm)\n",
      "  File \"/home/eisti/.local/lib/python3.6/site-packages/pdfminer/pdfinterp.py\", line 908, in render_contents\n",
      "    self.execute(list_value(streams))\n",
      "  File \"/home/eisti/.local/lib/python3.6/site-packages/pdfminer/pdfinterp.py\", line 919, in execute\n",
      "    (_, obj) = parser.nextobject()\n",
      "  File \"/home/eisti/.local/lib/python3.6/site-packages/pdfminer/psparser.py\", line 567, in nextobject\n",
      "    (pos, token) = self.nexttoken()\n",
      "  File \"/home/eisti/.local/lib/python3.6/site-packages/pdfminer/psparser.py\", line 494, in nexttoken\n",
      "    self.charpos = self._parse1(self.buf, self.charpos)\n",
      "  File \"/home/eisti/.local/lib/python3.6/site-packages/pdfminer/psparser.py\", line 452, in _parse_string_1\n",
      "    self._curtoken += bytes((int(self.oct, 8),))\n",
      "ValueError: bytes must be in range(0, 256)\n",
      "100%|██████████| 337/337 [02:21<00:00,  2.38it/s]\n",
      "Exception in thread Thread-4:\n",
      "Traceback (most recent call last):\n",
      "  File \"/usr/lib/python3.6/threading.py\", line 916, in _bootstrap_inner\n",
      "    self.run()\n",
      "  File \"/usr/lib/python3.6/threading.py\", line 864, in run\n",
      "    self._target(*self._args, **self._kwargs)\n",
      "  File \"<ipython-input-170-b2f088daf932>\", line 10, in timer_these\n",
      "    raise TimeoutError\n",
      "TimeoutError\n",
      "\n",
      "Process Process-485:\n",
      "Traceback (most recent call last):\n",
      "  File \"/usr/lib/python3.6/multiprocessing/process.py\", line 258, in _bootstrap\n",
      "    self.run()\n",
      "  File \"/usr/lib/python3.6/multiprocessing/process.py\", line 93, in run\n",
      "    self._target(*self._args, **self._kwargs)\n",
      "  File \"<ipython-input-184-987e7b0f2a52>\", line 9, in traitement_total\n",
      "    traitement_pages(nom_src + \".pdf\", traitement_image)\n"
     ]
    },
    {
     "ename": "KeyboardInterrupt",
     "evalue": "",
     "output_type": "error",
     "traceback": [
      "\u001b[0;31m---------------------------------------------------------------------------\u001b[0m",
      "\u001b[0;31mKeyboardInterrupt\u001b[0m                         Traceback (most recent call last)",
      "\u001b[0;32m<ipython-input-195-0ea33d9d8121>\u001b[0m in \u001b[0;36m<module>\u001b[0;34m\u001b[0m\n\u001b[1;32m      1\u001b[0m \u001b[0mdossier_destination\u001b[0m \u001b[0;34m=\u001b[0m \u001b[0;34m\"Thèse extraite\"\u001b[0m\u001b[0;34m\u001b[0m\u001b[0;34m\u001b[0m\u001b[0m\n\u001b[1;32m      2\u001b[0m \u001b[0mdossier_mal_lu\u001b[0m \u001b[0;34m=\u001b[0m \u001b[0;34m\"Thèse mal lue\"\u001b[0m\u001b[0;34m\u001b[0m\u001b[0;34m\u001b[0m\u001b[0m\n\u001b[0;32m----> 3\u001b[0;31m \u001b[0mextraction\u001b[0m\u001b[0;34m(\u001b[0m\u001b[0mdata\u001b[0m\u001b[0;34m,\u001b[0m \u001b[0;36m3\u001b[0m\u001b[0;34m,\u001b[0m \u001b[0;32mFalse\u001b[0m\u001b[0;34m)\u001b[0m\u001b[0;34m\u001b[0m\u001b[0;34m\u001b[0m\u001b[0m\n\u001b[0m",
      "\u001b[0;32m<ipython-input-190-eaf6d979a00b>\u001b[0m in \u001b[0;36mextraction\u001b[0;34m(data, nb_process, traitement_image)\u001b[0m\n\u001b[1;32m     44\u001b[0m \u001b[0;34m\u001b[0m\u001b[0m\n\u001b[1;32m     45\u001b[0m             \u001b[0;32mfor\u001b[0m \u001b[0mprocess_en_cours\u001b[0m \u001b[0;32min\u001b[0m \u001b[0mliste_process\u001b[0m \u001b[0;34m:\u001b[0m\u001b[0;34m\u001b[0m\u001b[0;34m\u001b[0m\u001b[0m\n\u001b[0;32m---> 46\u001b[0;31m                 \u001b[0mprocess_en_cours\u001b[0m\u001b[0;34m[\u001b[0m\u001b[0;36m1\u001b[0m\u001b[0;34m]\u001b[0m\u001b[0;34m.\u001b[0m\u001b[0mjoin\u001b[0m\u001b[0;34m(\u001b[0m\u001b[0;34m)\u001b[0m\u001b[0;34m\u001b[0m\u001b[0;34m\u001b[0m\u001b[0m\n\u001b[0m\u001b[1;32m     47\u001b[0m                 \u001b[0mmemoire\u001b[0m\u001b[0;34m.\u001b[0m\u001b[0mappend\u001b[0m\u001b[0;34m(\u001b[0m\u001b[0mprocess_en_cours\u001b[0m\u001b[0;34m[\u001b[0m\u001b[0;36m0\u001b[0m\u001b[0;34m]\u001b[0m\u001b[0;34m)\u001b[0m\u001b[0;34m\u001b[0m\u001b[0;34m\u001b[0m\u001b[0m\n\u001b[1;32m     48\u001b[0m \u001b[0;34m\u001b[0m\u001b[0m\n",
      "\u001b[0;32m/usr/lib/python3.6/multiprocessing/process.py\u001b[0m in \u001b[0;36mjoin\u001b[0;34m(self, timeout)\u001b[0m\n\u001b[1;32m    122\u001b[0m         \u001b[0;32massert\u001b[0m \u001b[0mself\u001b[0m\u001b[0;34m.\u001b[0m\u001b[0m_parent_pid\u001b[0m \u001b[0;34m==\u001b[0m \u001b[0mos\u001b[0m\u001b[0;34m.\u001b[0m\u001b[0mgetpid\u001b[0m\u001b[0;34m(\u001b[0m\u001b[0;34m)\u001b[0m\u001b[0;34m,\u001b[0m \u001b[0;34m'can only join a child process'\u001b[0m\u001b[0;34m\u001b[0m\u001b[0;34m\u001b[0m\u001b[0m\n\u001b[1;32m    123\u001b[0m         \u001b[0;32massert\u001b[0m \u001b[0mself\u001b[0m\u001b[0;34m.\u001b[0m\u001b[0m_popen\u001b[0m \u001b[0;32mis\u001b[0m \u001b[0;32mnot\u001b[0m \u001b[0;32mNone\u001b[0m\u001b[0;34m,\u001b[0m \u001b[0;34m'can only join a started process'\u001b[0m\u001b[0;34m\u001b[0m\u001b[0;34m\u001b[0m\u001b[0m\n\u001b[0;32m--> 124\u001b[0;31m         \u001b[0mres\u001b[0m \u001b[0;34m=\u001b[0m \u001b[0mself\u001b[0m\u001b[0;34m.\u001b[0m\u001b[0m_popen\u001b[0m\u001b[0;34m.\u001b[0m\u001b[0mwait\u001b[0m\u001b[0;34m(\u001b[0m\u001b[0mtimeout\u001b[0m\u001b[0;34m)\u001b[0m\u001b[0;34m\u001b[0m\u001b[0;34m\u001b[0m\u001b[0m\n\u001b[0m\u001b[1;32m    125\u001b[0m         \u001b[0;32mif\u001b[0m \u001b[0mres\u001b[0m \u001b[0;32mis\u001b[0m \u001b[0;32mnot\u001b[0m \u001b[0;32mNone\u001b[0m\u001b[0;34m:\u001b[0m\u001b[0;34m\u001b[0m\u001b[0;34m\u001b[0m\u001b[0m\n\u001b[1;32m    126\u001b[0m             \u001b[0m_children\u001b[0m\u001b[0;34m.\u001b[0m\u001b[0mdiscard\u001b[0m\u001b[0;34m(\u001b[0m\u001b[0mself\u001b[0m\u001b[0;34m)\u001b[0m\u001b[0;34m\u001b[0m\u001b[0;34m\u001b[0m\u001b[0m\n",
      "\u001b[0;32m/usr/lib/python3.6/multiprocessing/popen_fork.py\u001b[0m in \u001b[0;36mwait\u001b[0;34m(self, timeout)\u001b[0m\n\u001b[1;32m     48\u001b[0m                     \u001b[0;32mreturn\u001b[0m \u001b[0;32mNone\u001b[0m\u001b[0;34m\u001b[0m\u001b[0;34m\u001b[0m\u001b[0m\n\u001b[1;32m     49\u001b[0m             \u001b[0;31m# This shouldn't block if wait() returned successfully.\u001b[0m\u001b[0;34m\u001b[0m\u001b[0;34m\u001b[0m\u001b[0;34m\u001b[0m\u001b[0m\n\u001b[0;32m---> 50\u001b[0;31m             \u001b[0;32mreturn\u001b[0m \u001b[0mself\u001b[0m\u001b[0;34m.\u001b[0m\u001b[0mpoll\u001b[0m\u001b[0;34m(\u001b[0m\u001b[0mos\u001b[0m\u001b[0;34m.\u001b[0m\u001b[0mWNOHANG\u001b[0m \u001b[0;32mif\u001b[0m \u001b[0mtimeout\u001b[0m \u001b[0;34m==\u001b[0m \u001b[0;36m0.0\u001b[0m \u001b[0;32melse\u001b[0m \u001b[0;36m0\u001b[0m\u001b[0;34m)\u001b[0m\u001b[0;34m\u001b[0m\u001b[0;34m\u001b[0m\u001b[0m\n\u001b[0m\u001b[1;32m     51\u001b[0m         \u001b[0;32mreturn\u001b[0m \u001b[0mself\u001b[0m\u001b[0;34m.\u001b[0m\u001b[0mreturncode\u001b[0m\u001b[0;34m\u001b[0m\u001b[0;34m\u001b[0m\u001b[0m\n\u001b[1;32m     52\u001b[0m \u001b[0;34m\u001b[0m\u001b[0m\n",
      "\u001b[0;32m/usr/lib/python3.6/multiprocessing/popen_fork.py\u001b[0m in \u001b[0;36mpoll\u001b[0;34m(self, flag)\u001b[0m\n\u001b[1;32m     26\u001b[0m             \u001b[0;32mwhile\u001b[0m \u001b[0;32mTrue\u001b[0m\u001b[0;34m:\u001b[0m\u001b[0;34m\u001b[0m\u001b[0;34m\u001b[0m\u001b[0m\n\u001b[1;32m     27\u001b[0m                 \u001b[0;32mtry\u001b[0m\u001b[0;34m:\u001b[0m\u001b[0;34m\u001b[0m\u001b[0;34m\u001b[0m\u001b[0m\n\u001b[0;32m---> 28\u001b[0;31m                     \u001b[0mpid\u001b[0m\u001b[0;34m,\u001b[0m \u001b[0msts\u001b[0m \u001b[0;34m=\u001b[0m \u001b[0mos\u001b[0m\u001b[0;34m.\u001b[0m\u001b[0mwaitpid\u001b[0m\u001b[0;34m(\u001b[0m\u001b[0mself\u001b[0m\u001b[0;34m.\u001b[0m\u001b[0mpid\u001b[0m\u001b[0;34m,\u001b[0m \u001b[0mflag\u001b[0m\u001b[0;34m)\u001b[0m\u001b[0;34m\u001b[0m\u001b[0;34m\u001b[0m\u001b[0m\n\u001b[0m\u001b[1;32m     29\u001b[0m                 \u001b[0;32mexcept\u001b[0m \u001b[0mOSError\u001b[0m \u001b[0;32mas\u001b[0m \u001b[0me\u001b[0m\u001b[0;34m:\u001b[0m\u001b[0;34m\u001b[0m\u001b[0;34m\u001b[0m\u001b[0m\n\u001b[1;32m     30\u001b[0m                     \u001b[0;31m# Child process not yet created. See #1731717\u001b[0m\u001b[0;34m\u001b[0m\u001b[0;34m\u001b[0m\u001b[0;34m\u001b[0m\u001b[0m\n",
      "\u001b[0;31mKeyboardInterrupt\u001b[0m: "
     ]
    },
    {
     "name": "stderr",
     "output_type": "stream",
     "text": [
      "  File \"<ipython-input-175-7892745a6108>\", line 26, in traitement_pages\n",
      "    page_textes_paire.append(queue_paire.get())\n",
      "  File \"/usr/lib/python3.6/multiprocessing/queues.py\", line 94, in get\n",
      "    res = self._recv_bytes()\n",
      "  File \"/usr/lib/python3.6/multiprocessing/connection.py\", line 216, in recv_bytes\n",
      "    buf = self._recv_bytes(maxlength)\n",
      "  File \"/usr/lib/python3.6/multiprocessing/connection.py\", line 407, in _recv_bytes\n",
      "    buf = self._recv(4)\n",
      "  File \"/usr/lib/python3.6/multiprocessing/connection.py\", line 379, in _recv\n",
      "    chunk = read(handle, remaining)\n",
      "KeyboardInterrupt\n",
      " 47%|████▋     | 124/262 [13:23<14:54,  6.48s/it]\n"
     ]
    }
   ],
   "source": [
    "dossier_destination = \"Thèse extraite\"\n",
    "dossier_mal_lu = \"Thèse mal lue\"\n",
    "extraction(data, 3, False)"
   ]
  },
  {
   "cell_type": "code",
   "execution_count": null,
   "metadata": {},
   "outputs": [],
   "source": []
  }
 ],
 "metadata": {
  "colab": {
   "collapsed_sections": [],
   "name": "Test lecture pdf update.ipynb",
   "provenance": [],
   "toc_visible": true
  },
  "kernelspec": {
   "display_name": "Python 3",
   "language": "python",
   "name": "python3"
  },
  "language_info": {
   "codemirror_mode": {
    "name": "ipython",
    "version": 3
   },
   "file_extension": ".py",
   "mimetype": "text/x-python",
   "name": "python",
   "nbconvert_exporter": "python",
   "pygments_lexer": "ipython3",
   "version": "3.6.9"
  }
 },
 "nbformat": 4,
 "nbformat_minor": 1
}
